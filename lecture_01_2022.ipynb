{
 "cells": [
  {
   "cell_type": "markdown",
   "metadata": {
    "collapsed": true,
    "pycharm": {
     "name": "#%% md\n"
    }
   },
   "source": [
    "## Guest Lecture COMP7230\n",
    "# Using Python packages for spatial Linked Data data\n",
    "#### by Dr Nicholas Car\n",
    "\n",
    "This Notebook is the resource used to deliver a guest lecture for the [Australian National University](https://www.anu.edu.au)'s course [COMP7230](https://programsandcourses.anu.edu.au/2020/course/COMP7230): *Introduction to Programming for Data Scientists*\n",
    "\n",
    "Click here to run this lecture in your web browser:\n",
    "[![Binder](https://mybinder.org/badge_logo.svg)](https://mybinder.org/v2/gh/nicholascar/comp7230-training/HEAD?filepath=lecture_01_2022.ipynb)\n",
    "\n",
    "## About the lecturer\n",
    "**Nicholas Car**:\n",
    "* PhD in informatics for irrigation\n",
    "* A former CSIRO informatics researcher\n",
    "    * worked on integrating environmental data across government / industry\n",
    "    * developed data standards\n",
    "* Has worked in operational IT in government\n",
    "* Now runs a private IT consulting company, [Kurrawong AI](https://kurrawong.net) supplying Data Science solutions\n",
    "\n",
    "Relevant current work:\n",
    "\n",
    "* building data processing systems for government & industry\n",
    "* mainly using Python\n",
    "    * due to its large number of web and data science packages\n",
    "* maintains the [RDFlib](https://rdflib.net) Python toolkit\n",
    "    * for processing [RDF](https://en.wikipedia.org/wiki/Resource_Description_Framework)\n",
    "* co-chairs the [Australian Government Linked Data Working Group](https://www.linked.data.gov.au)\n",
    "    * plans for multi-agency data integration\n",
    "* still developing data standards\n",
    "    * in particular [GeoSPARQL 1.1](https://opengeospatial.github.io/ogc-geosparql/geosparql11/spec.html)\n",
    "        * for graph representations of spatial information\n",
    "\n",
    "\n",
    "## 0. Lecture Outline\n",
    "1. Notes about this training material\n",
    "2. Background Concepts\n",
    "3. Accessing RDF data\n",
    "4. Parsing RDF data\n",
    "5. Data 'mash up'\n",
    "6. Data Conversions & Display\n",
    "\n",
    "\n",
    "## 1. Notes about this training material\n",
    "* This is a Jupyter Notebook - interactive Python scripting\n",
    "* You will cover Jupyter Notebooks more, later in this course\n",
    "* Access this material online at:\n",
    "    * GitHub: <https://github.com/nicholascar/comp7230-training>\n",
    "\n",
    "[![Binder](https://mybinder.org/badge_logo.svg)](https://mybinder.org/v2/gh/nicholascar/comp7230-training/?filepath=lecture_01.ipynb)\n",
    "\n",
    "## 2. Background Concepts\n",
    "### 2.1 Knowledge Graphs & RDF\n",
    "_Nick will talk about RDF using these web pages:_\n",
    "\n",
    "* [Semantic Web](https://www.w3.org/standards/semanticweb/) - the concept\n",
    "* [Knowledge Graph](https://en.wikipedia.org/wiki/Knowledge_graph)\n",
    "    * IBM's version: <https://www.ibm.com/cloud/learn/knowledge-graph>\n",
    "* [RDF](https://en.wikipedia.org/wiki/Resource_Description_Framework) - the data model\n",
    "    * refer to the RDF image below\n",
    "* [RDFlib](https://rdflib.net) - the (Python) toolkit\n",
    "* [RDFlib training Notebooks are available](https://github.com/nicholascar/rdflib-training)\n",
    "\n",
    "RDF image, from [the RDF Primer](https://www.w3.org/TR/rdf11-primer/), for discussion:\n",
    "\n",
    "![](./lecture_resources/img/example-graph-iris.jpg)\n",
    "\n",
    "### 2.2 Australian national spatial datasets in RDF\n",
    "\n",
    "![LocI Logo](./lecture_resources/img/LocI.png)\n",
    "\n",
    "The LocI & FSDF DAA projects:\n",
    "* The Location Index project: <https://www.ga.gov.au/locationindex>\n",
    "* FSDF DAA's \"Supermodel\"\n",
    "    * <https://geoscienceaustralia.github.io/fsdf-supermodel/supermodel.html>\n",
    "* Knowledge Graph spatial data: [GeoSPARQL](https://opengeospatial.github.io/ogc-geosparql/geosparql11/spec.html#_core)\n",
    "* Operational APIs:\n",
    "    * ASGS: <https://asgs.linked.fsdf.org.au/dataset/asgsed3/collections>\n",
    "    * GNAF: <https://gnaf.linked.fsdf.org.au/dataset/gnaf/collections>\n",
    "    * there are others too!\n",
    "\n",
    "### 2.3 KG summary\n",
    "* _everything_ is \"strongly\" identified\n",
    "    * including all relationships\n",
    "    * unlike lots of related data\n",
    "* many of the identifiers resolve\n",
    "    * to more info on the web\n",
    "* KG spatial data looks a lot like regular spatial data\n",
    "    * but it's connected to other things in a defined way\n",
    "\n",
    "## 3. Accessing RDF data\n",
    "* Here we use the API for the Geocoded National Address File for Australia for Address data\n",
    "    * Addresses Collection: <https://gnaf.linked.fsdf.org.au/dataset/gnaf/collections/address>\n",
    "* GNAF-LD Data is presented according to *Linked Data* principles\n",
    "    * online\n",
    "    * in HTML & machine-readable form, RDF\n",
    "    * RDF is a Knowledge Graph: a graph containing data + model\n",
    "    * each resource is available via a IRI\n",
    "        * e.g. <https://linked.data.gov.au/dataset/gnaf/address/GAACT714845933>\n",
    "\n",
    "![GAACT714845933](./lecture_resources/img/GAACT714845933.png)\n",
    "\n",
    "### 3.1. Use local RDF data\n",
    "Some setup imports"
   ]
  },
  {
   "cell_type": "code",
   "execution_count": null,
   "metadata": {
    "pycharm": {
     "name": "#%%\n"
    }
   },
   "outputs": [],
   "source": [
    "import httpx\n",
    "import rdflib\n",
    "from rdflib.namespace import DCTERMS, GEO, RDF, RDFS"
   ]
  },
  {
   "cell_type": "markdown",
   "metadata": {
    "pycharm": {
     "name": "#%% md\n"
    }
   },
   "source": [
    "RDF can be stored in files in multiple formats optimised for different purposes.\n",
    "\n",
    "A commonly-used format is JSON-LD - a JSON encoding of RDF. Let's parse a JSON-LD data file for the address GAACT714845933 into an in-memory graph and print out the number of triples."
   ]
  },
  {
   "cell_type": "code",
   "execution_count": null,
   "metadata": {
    "pycharm": {
     "name": "#%%\n"
    }
   },
   "outputs": [],
   "source": [
    "print(open(\"./lecture_resources/GAACT714845933.json-ld\").read())"
   ]
  },
  {
   "cell_type": "markdown",
   "metadata": {
    "pycharm": {
     "name": "#%% md\n"
    }
   },
   "source": [
    "### 3.2. Get Address GAACT714845933 data online using the *httpx* package"
   ]
  },
  {
   "cell_type": "code",
   "execution_count": null,
   "metadata": {
    "pycharm": {
     "name": "#%%\n"
    }
   },
   "outputs": [],
   "source": [
    "r = httpx.get(\n",
    "    \"https://linked.data.gov.au/dataset/gnaf/address/GAACT714845933\",\n",
    "    follow_redirects=True\n",
    ")\n",
    "print(r.text.strip())"
   ]
  },
  {
   "cell_type": "markdown",
   "metadata": {},
   "source": [
    "Not so easy to use the HTML we got above!\n",
    "\n",
    "### 3.3 Get machine-readable data, RDF in JSON-LD\n",
    "Use HTTP Content Negotiation to get the same JSON-LD as stored locally\n",
    "Same IRI, different *format* of data"
   ]
  },
  {
   "cell_type": "code",
   "execution_count": null,
   "metadata": {
    "pycharm": {
     "name": "#%%\n"
    }
   },
   "outputs": [],
   "source": [
    "r = httpx.get(\n",
    "    \"https://linked.data.gov.au/dataset/gnaf/address/GAACT714845933\",\n",
    "    headers={\"Accept\": \"application/ld+json\"},\n",
    "    follow_redirects=True\n",
    ")\n",
    "print(r.text)"
   ]
  },
  {
   "cell_type": "markdown",
   "metadata": {},
   "source": [
    "Let's get a different RDF format...\n",
    "\n",
    "### 3.4 Get machine-readable data, Turtle. Easier to read"
   ]
  },
  {
   "cell_type": "code",
   "execution_count": null,
   "metadata": {
    "pycharm": {
     "name": "#%%\n"
    }
   },
   "outputs": [],
   "source": [
    "r = httpx.get(\n",
    "    \"https://linked.data.gov.au/dataset/gnaf/address/GAACT714845933\",\n",
    "    headers={\"Accept\": \"text/turtle\"},\n",
    "    follow_redirects=True\n",
    ")\n",
    "print(r.text)"
   ]
  },
  {
   "cell_type": "markdown",
   "metadata": {},
   "source": [
    "## 4. Parsing RDF data\n",
    "\n",
    "### 4.1 Using RDF tools - RDFLib\n",
    "Import the RDFlib library for manipulating RDF data\n",
    "\n",
    "Add some namespaces to shorten IRIs"
   ]
  },
  {
   "cell_type": "code",
   "execution_count": null,
   "metadata": {
    "pycharm": {
     "name": "#%%\n"
    }
   },
   "outputs": [],
   "source": [
    "ADDR = rdflib.Namespace(\"http://w3id.org/profile/anz-address/\")\n",
    "print(GEO)"
   ]
  },
  {
   "cell_type": "markdown",
   "metadata": {
    "pycharm": {
     "name": "#%% md\n"
    }
   },
   "source": [
    "Create a graph and add the namespaces to it"
   ]
  },
  {
   "cell_type": "code",
   "execution_count": null,
   "metadata": {
    "pycharm": {
     "name": "#%%\n"
    }
   },
   "outputs": [],
   "source": [
    "g = rdflib.Graph(bind_namespaces=\"core\") # RDF & RDFS added\n",
    "g.bind(\"addr\", ADDR)\n",
    "g.bind(\"geo\", GEO)\n",
    "print(g)"
   ]
  },
  {
   "cell_type": "markdown",
   "metadata": {},
   "source": [
    "Parse in the machine-readable data - JSON-LD RDF - from the GNAF online"
   ]
  },
  {
   "cell_type": "code",
   "execution_count": null,
   "metadata": {
    "pycharm": {
     "name": "#%%\n"
    }
   },
   "outputs": [],
   "source": [
    "r = httpx.get(\n",
    "    \"https://linked.data.gov.au/dataset/gnaf/address/GAACT714845933\",\n",
    "    headers={\"Accept\": \"application/ld+json\"},\n",
    "    follow_redirects=True\n",
    ")\n",
    "g.parse(data=r.text, format=\"json-ld\")\n",
    "print(len(g))"
   ]
  },
  {
   "cell_type": "markdown",
   "metadata": {},
   "source": [
    "> Why is this so much better than parsing ordinary CSV?\n",
    "> What are the main KG advantages?\n",
    ">\n",
    "> * strong definitions\n",
    "> * universal models\n",
    "> * extensible models\n",
    "> * tooling for instance parsing\n",
    "> * easily queryable results"
   ]
  },
  {
   "cell_type": "markdown",
   "metadata": {},
   "source": [
    "Print graph content, in a different format from that which we got - Turtle"
   ]
  },
  {
   "cell_type": "code",
   "execution_count": null,
   "metadata": {
    "pycharm": {
     "name": "#%%\n"
    }
   },
   "outputs": [],
   "source": [
    "print(g.serialize())"
   ]
  },
  {
   "cell_type": "markdown",
   "metadata": {},
   "source": [
    "### 4.2 Getting multi-address data:\n",
    "4.2.1. Retrieve a list of 20 addresses, in RDF\n",
    "4.2.2. Get individual object data from a list\n",
    "4.2.3. Get only the street address and map coordinates\n",
    "4.2.4. Convert CSV data to PANDAS DataFrame\n",
    "4.2.5. SPARQL querying RDF data\n",
    "\n",
    "* The GNAF has ~14.5M Addresses in it\n",
    "* The Linked Data APIs we are using page data: <http://gnaf.linked.fsdf.org.au/dataset/gnaf/collections/address/items?page=1>\n",
    "\n",
    "#### 4.2.1. Retrieve a list of objects (1 page)"
   ]
  },
  {
   "cell_type": "code",
   "execution_count": null,
   "metadata": {
    "pycharm": {
     "name": "#%%\n"
    }
   },
   "outputs": [],
   "source": [
    "g = rdflib.Graph()\n",
    "\n",
    "r = httpx.get(\n",
    "    \"http://gnaf.linked.fsdf.org.au/dataset/gnaf/collections/address/items?_profile=mem&_mediatype=text/turtle\",\n",
    "    headers={\"Accept\": \"text/turtle\"},\n",
    "    follow_redirects=True\n",
    ")\n",
    "g.parse(data=r.text)\n",
    "print(len(g))"
   ]
  },
  {
   "cell_type": "markdown",
   "metadata": {
    "pycharm": {
     "name": "#%% md\n"
    }
   },
   "source": [
    "This list is also in RDF!\n",
    "\n",
    "Show the IDs of first few by looping through the graph"
   ]
  },
  {
   "cell_type": "code",
   "execution_count": null,
   "metadata": {
    "pycharm": {
     "name": "#%%\n"
    }
   },
   "outputs": [],
   "source": [
    "for i, t in enumerate(g.triples((None, RDFS.member, None))):\n",
    "    print(f'Address {i+1}: {t[2].split(\"/\")[-1]}')\n",
    "    if i > 4:\n",
    "        break"
   ]
  },
  {
   "cell_type": "markdown",
   "metadata": {},
   "source": [
    "#### 4.2.2. Get individual object data from a list\n",
    "\n",
    "For each Address in a list, retrieve it's RDF from the API online."
   ]
  },
  {
   "cell_type": "code",
   "execution_count": null,
   "metadata": {
    "pycharm": {
     "name": "#%%\n"
    }
   },
   "outputs": [],
   "source": [
    "g = rdflib.Graph()\n",
    "g.bind(\"addr\", ADDR)\n",
    "g.bind(\"geo\", GEO)\n",
    "\n",
    "addresses = [\n",
    "    \"https://linked.data.gov.au/dataset/gnaf/address/GAACT714845944\",\n",
    "    \"https://linked.data.gov.au/dataset/gnaf/address/GAACT714845934\",\n",
    "    \"https://linked.data.gov.au/dataset/gnaf/address/GAACT714845943\",\n",
    "    \"https://linked.data.gov.au/dataset/gnaf/address/GAACT714845949\",\n",
    "    \"https://linked.data.gov.au/dataset/gnaf/address/GAACT714845955\",\n",
    "    \"https://linked.data.gov.au/dataset/gnaf/address/GAACT714845935\",\n",
    "    \"https://linked.data.gov.au/dataset/gnaf/address/GAACT714845947\",\n",
    "    \"https://linked.data.gov.au/dataset/gnaf/address/GAACT714845950\",\n",
    "    \"https://linked.data.gov.au/dataset/gnaf/address/GAACT714845933\",\n",
    "    \"https://linked.data.gov.au/dataset/gnaf/address/GAACT714845953\",\n",
    "    \"https://linked.data.gov.au/dataset/gnaf/address/GAACT714845945\",\n",
    "    \"https://linked.data.gov.au/dataset/gnaf/address/GAACT714845946\",\n",
    "    \"https://linked.data.gov.au/dataset/gnaf/address/GAACT714845939\",\n",
    "    \"https://linked.data.gov.au/dataset/gnaf/address/GAACT714845941\",\n",
    "    \"https://linked.data.gov.au/dataset/gnaf/address/GAACT714845942\",\n",
    "    \"https://linked.data.gov.au/dataset/gnaf/address/GAACT714845954\",\n",
    "    \"https://linked.data.gov.au/dataset/gnaf/address/GAACT714845952\",\n",
    "    \"https://linked.data.gov.au/dataset/gnaf/address/GAACT714845938\",\n",
    "    \"https://linked.data.gov.au/dataset/gnaf/address/GAACT714845936\",\n",
    "    \"https://linked.data.gov.au/dataset/gnaf/address/GAACT714845951\",\n",
    "]\n",
    "for address in addresses:\n",
    "    r = httpx.get(\n",
    "        address,\n",
    "        headers={\"Accept\": \"text/turtle\"},\n",
    "        follow_redirects=True\n",
    "    )\n",
    "    g.parse(data=r.text, format=\"turtle\")\n",
    "    print(f\"Getting {address}...\")\n",
    "    print(len(g))"
   ]
  },
  {
   "cell_type": "markdown",
   "metadata": {},
   "source": [
    "Let's merge in some local data"
   ]
  },
  {
   "cell_type": "code",
   "execution_count": null,
   "metadata": {
    "pycharm": {
     "name": "#%%\n"
    }
   },
   "outputs": [],
   "source": [
    "print(f\"Before merge, graph length: {len(g)}\")\n",
    "g.parse(\"./lecture_resources/address_geometries.ttl\")\n",
    "print(f\"After merge, graph length: {len(g)}\")"
   ]
  },
  {
   "cell_type": "markdown",
   "metadata": {
    "pycharm": {
     "name": "#%% md\n"
    }
   },
   "source": [
    "#### 4.2.3. Extract (& print) street address text & coordinates\n",
    "As CSV..."
   ]
  },
  {
   "cell_type": "code",
   "execution_count": null,
   "metadata": {
    "pycharm": {
     "name": "#%%\n"
    }
   },
   "outputs": [],
   "source": [
    "addresses_tsv = \"id\\tcoordinates\\n\"\n",
    "for s, p, o in g.triples((None, RDF.type, ADDR.Address)):\n",
    "    id = g.value(s, DCTERMS.identifier)\n",
    "    coords = \"\"\n",
    "    for s2, p2, o2 in g.triples((s, ADDR.hasQualifiedGeometry, None)):\n",
    "        for s3, p3, o3 in g.triples((o2, GEO.hasGeometry, None)):\n",
    "            for s4, p4, o4 in g.triples((o3, GEO.asWKT, None)):\n",
    "                coords = str(o4).strip()\n",
    "\n",
    "    addresses_tsv += \"{}\\t{}\\n\".format(id, coords)\n",
    "\n",
    "print(addresses_tsv)"
   ]
  },
  {
   "cell_type": "markdown",
   "metadata": {},
   "source": [
    "#### 4.2.4. Convert CSV data to PANDAS DataFrame"
   ]
  },
  {
   "cell_type": "code",
   "execution_count": null,
   "metadata": {
    "pycharm": {
     "name": "#%%\n"
    }
   },
   "outputs": [],
   "source": [
    "import pandas\n",
    "from io import StringIO\n",
    "s = StringIO(addresses_tsv)\n",
    "df1 = pandas.read_csv(s, sep=\"\\t\")\n",
    "print(df1)\n"
   ]
  },
  {
   "cell_type": "markdown",
   "metadata": {},
   "source": [
    "#### 4.2.5. SPARQL querying RDF data\n",
    "A graph query, similar to a database SQL query, can traverse the graph and retrieve the same details as the multiple\n",
    "loops and Python code above in 3.1.3."
   ]
  },
  {
   "cell_type": "code",
   "execution_count": null,
   "metadata": {
    "pycharm": {
     "name": "#%%\n"
    }
   },
   "outputs": [],
   "source": [
    "q = \"\"\"\n",
    "PREFIX addr: <http://w3id.org/profile/anz-address/>\n",
    "SELECT ?id ?coords\n",
    "WHERE {\n",
    "    ?iri dcterms:identifier ?id .\n",
    "\n",
    "    ?iri addr:hasQualifiedGeometry/geo:hasGeometry/geo:asWKT ?coords .\n",
    "}\n",
    "ORDER BY ?id\n",
    "\"\"\"\n",
    "for r in g.query(q):\n",
    "    print(\"{}, {}\".format(r[\"id\"], r[\"coords\"]))"
   ]
  },
  {
   "cell_type": "markdown",
   "metadata": {},
   "source": [
    "The query above uses a fancy 'path follower' clause: `addr:hasQualifiedGeometry/geo:hasGeometry/geo:asWKT`\n",
    "\n",
    "## 5. Data 'mash up'\n",
    "Add some fake data to the GNAF data - people count per address.\n",
    "\n",
    "The GeoSPARQL model extension used is:\n",
    "\n",
    "![](./lecture_resources/img/geosparql-model-extension.png)\n",
    "\n",
    "Note that for real Knowledge Graph work, the `xxx:` properties and classes would be \"properly defined\", removing any ambiguity of use."
   ]
  },
  {
   "cell_type": "code",
   "execution_count": null,
   "metadata": {
    "pycharm": {
     "name": "#%%\n"
    }
   },
   "outputs": [],
   "source": [
    "import pandas\n",
    "df2 = pandas.read_csv('./lecture_resources/fake_data.csv')\n",
    "print(df2)"
   ]
  },
  {
   "cell_type": "markdown",
   "metadata": {},
   "source": [
    "Merge DataFrames"
   ]
  },
  {
   "cell_type": "code",
   "execution_count": null,
   "metadata": {
    "pycharm": {
     "name": "#%%\n"
    }
   },
   "outputs": [],
   "source": [
    "df3 = pandas.merge(df1, df2)\n",
    "print(df3.head())"
   ]
  },
  {
   "cell_type": "markdown",
   "metadata": {
    "pycharm": {
     "name": "#%% md\n"
    }
   },
   "source": [
    "## 6. Spatial Data Conversions & Display\n",
    "\n",
    "Often you will want to display or export data.\n",
    "\n",
    "#### 6.1 Basic plot display\n",
    "Using standard Python plotting (matplotlib).\n",
    "\n",
    "First, extract longitudes & latitudes"
   ]
  },
  {
   "cell_type": "code",
   "execution_count": null,
   "metadata": {
    "pycharm": {
     "name": "#%%\n"
    }
   },
   "outputs": [],
   "source": [
    "import re\n",
    "addresses_csv = \"id,lon,lat\\n\"\n",
    "\n",
    "q = \"\"\"\n",
    "    PREFIX addr: <http://w3id.org/profile/anz-address/>\n",
    "    SELECT ?id ?coords\n",
    "    WHERE {\n",
    "        ?iri dcterms:identifier ?id .\n",
    "\n",
    "        ?iri addr:hasQualifiedGeometry/geo:hasGeometry/geo:asWKT ?coords .\n",
    "    }\n",
    "    ORDER BY ?id\n",
    "    \"\"\"\n",
    "for r in g.query(q):\n",
    "    match = re.search(\"POINT\\s\\((\\d+\\.\\d+)\\s(\\-\\d+\\.\\d+)\\)\", r[\"coords\"])\n",
    "    long = float(match.group(1))\n",
    "    lat = float(match.group(2))\n",
    "    addresses_csv += f'\\\"{r[\"id\"]}\\\",{long},{lat}\\n'\n",
    "\n",
    "print(addresses_csv)"
   ]
  },
  {
   "cell_type": "markdown",
   "metadata": {
    "pycharm": {
     "name": "#%% md\n"
    }
   },
   "source": [
    "Put this new CSV data into a dataframe"
   ]
  },
  {
   "cell_type": "code",
   "execution_count": null,
   "metadata": {
    "pycharm": {
     "name": "#%%\n"
    }
   },
   "outputs": [],
   "source": [
    "df4 = pandas.read_csv(StringIO(addresses_csv))\n",
    "print(df4.head())"
   ]
  },
  {
   "cell_type": "markdown",
   "metadata": {
    "pycharm": {
     "name": "#%% md\n"
    }
   },
   "source": [
    "Merge in the persons data"
   ]
  },
  {
   "cell_type": "code",
   "execution_count": null,
   "metadata": {
    "pycharm": {
     "name": "#%%\n"
    }
   },
   "outputs": [],
   "source": [
    "df5 = pandas.merge(df4, df2)\n",
    "print(df5.head())"
   ]
  },
  {
   "cell_type": "markdown",
   "metadata": {},
   "source": [
    "Display"
   ]
  },
  {
   "cell_type": "code",
   "execution_count": null,
   "metadata": {
    "pycharm": {
     "name": "#%%\n"
    }
   },
   "outputs": [],
   "source": [
    "from matplotlib import pyplot as plt\n",
    "\n",
    "df5.plot(kind=\"scatter\", x=\"lon\", y=\"lat\", s=50, figsize=(10,10))\n",
    "\n",
    "for i, label in enumerate(df5):\n",
    "    plt.annotate(df5[\"persons\"][i], (df5[\"lon\"][i], df5[\"lat\"][i]))\n",
    "    \n",
    "plt.show()\n"
   ]
  },
  {
   "cell_type": "markdown",
   "metadata": {
    "pycharm": {
     "name": "#%% md\n"
    }
   },
   "source": [
    "#### 5.2 Better map display\n",
    "\n",
    "Just use a toolkit - MapBox!\n",
    "\n",
    "First, convert data format to GeoJSON"
   ]
  },
  {
   "cell_type": "code",
   "execution_count": null,
   "metadata": {
    "pycharm": {
     "name": "#%%\n"
    }
   },
   "outputs": [],
   "source": [
    "addresses_geojson = []\n",
    "for index, row in df5.iterrows():\n",
    "    addresses_geojson.append({\n",
    "        \"type\": \"Feature\",\n",
    "        \"geometry\": {\n",
    "            \"type\": \"Point\",\n",
    "            \"coordinates\": [row[\"lon\"], row[\"lat\"]]\n",
    "        },\n",
    "        \"properties\": {\n",
    "            \"id\": row[\"id\"],\n",
    "            \"persons\": row[\"persons\"]\n",
    "        }\n",
    "    })\n",
    "addresses_geojson = {\n",
    "    \"type\": \"FeatureCollection\", \n",
    "    \"features\": addresses_geojson\n",
    "}\n",
    "import json\n",
    "print(json.dumps(addresses_geojson, indent=4))"
   ]
  },
  {
   "cell_type": "code",
   "execution_count": null,
   "metadata": {
    "pycharm": {
     "name": "#%%\n"
    }
   },
   "outputs": [],
   "source": [
    "# the public MapBox token\n",
    "token = \"pk.eyJ1IjoibmljaG9sYXNjYXIiLCJhIjoiY2w3aWFkbXp2MDdrZjN2czMwMmYydmkwZiJ9.o-BIM9Fktde7bjgWZ8Ti5A\"\n",
    "\n",
    "from mapboxgl.utils import create_color_stops\n",
    "from mapboxgl.viz import CircleViz\n",
    "\n",
    "viz = CircleViz(addresses_geojson,\n",
    "                access_token=token,\n",
    "                height='500px',\n",
    "                label_property='id',\n",
    "                color_property='persons',\n",
    "                color_default='grey',\n",
    "                color_function_type='match',\n",
    "                color_stops=create_color_stops([0, 2, 4, 6, 8], colors='YlOrRd'),\n",
    "                radius=2,\n",
    "                center=(149.19, -35.25),\n",
    "                zoom=10)\n",
    "viz.show()"
   ]
  },
  {
   "cell_type": "markdown",
   "metadata": {
    "pycharm": {
     "name": "#%% md\n"
    }
   },
   "source": [
    "## Concluding remarks\n",
    "\n",
    "* Knowledge Graphs, realised through Linked Data, build a global machine-readable data system - the Seamntic Web\n",
    "* the RDF data structure is used\n",
    "    * to link things\n",
    "    * to define things, and the links\n",
    "* specialised parts of the Sem Web can represent a/any domain\n",
    "    * e.g. spatial\n",
    "    * e.g. Addresses\n",
    "* powerful graph pattern matching queries, SPARQL, can be used to subset (federated) Sem Web data\n",
    "* RDF manipulation libraries exist\n",
    "    * can convert to other, common forms, e.g. CSV GeoJSON\n",
    "* _do as much data science work as you can with well-defined models!_\n",
    "\n",
    "## License\n",
    "All the content in this repository is licensed under the [CC BY 4.0 license](https://creativecommons.org/licenses/by/4.0/). Basically, you can:\n",
    "\n",
    "* copy and redistribute the material in any medium or format\n",
    "* remix, transform, and build upon the material for any purpose, even commercially\n",
    "\n",
    "You just need to:\n",
    "\n",
    "* give appropriate credit, provide a link to the license, and indicate if changes were made\n",
    "* not apply legal terms or technological measures that legally restrict others from doing anything the license permits\n",
    "\n",
    "## Contact Information\n",
    "**Dr Nicholas J. Car**<br />\n",
    "*Data Systems Architect*<br />\n",
    "[SURROUND Australia Pty Ltd](https://surroundaustralia.com)<br />\n",
    "<nicholas.car@surroundaustralia.com><br />\n",
    "GitHub: [nicholascar](https://github.com/nicholascar)<br />\n",
    "ORCID: <https://orcid.org/0000-0002-8742-7730><br />"
   ]
  }
 ],
 "metadata": {
  "kernelspec": {
   "display_name": "Python 3 (ipykernel)",
   "language": "python",
   "name": "python3"
  },
  "language_info": {
   "codemirror_mode": {
    "name": "ipython",
    "version": 3
   },
   "file_extension": ".py",
   "mimetype": "text/x-python",
   "name": "python",
   "nbconvert_exporter": "python",
   "pygments_lexer": "ipython3",
   "version": "3.10.6"
  }
 },
 "nbformat": 4,
 "nbformat_minor": 1
}