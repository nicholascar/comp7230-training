{
 "cells": [
  {
   "cell_type": "markdown",
   "source": [
    "## Guest Lecture COMP7230\n",
    "# Spatio-temporal data manipulation in Semantic Graphs\n",
    "#### by Dr Nicholas Car\n",
    "\n",
    "This Notebook is the resource used to deliver a guest lecture for the [Australian National University](https://www.anu.edu.au)'s course [COMP7230](https://programsandcourses.anu.edu.au/2020/course/COMP7230): *Introduction to Programming for Data Scientists*. It is the second lecture in that series.\n",
    "\n",
    "## 0. Lecture Outline\n",
    "1. Notes about this training material\n",
    "2. xxx\n",
    "3. xxx\n",
    "\n",
    "## 1. Notes about this training material\n",
    "\n",
    "* see [lecture_01.ipynb](lecture_01.ipynb) for notes on how to use this material\n"
   ],
   "metadata": {
    "collapsed": false
   }
  }
 ],
 "metadata": {
  "kernelspec": {
   "display_name": "Python 3",
   "language": "python",
   "name": "python3"
  },
  "language_info": {
   "codemirror_mode": {
    "name": "ipython",
    "version": 2
   },
   "file_extension": ".py",
   "mimetype": "text/x-python",
   "name": "python",
   "nbconvert_exporter": "python",
   "pygments_lexer": "ipython2",
   "version": "2.7.6"
  }
 },
 "nbformat": 4,
 "nbformat_minor": 0
}