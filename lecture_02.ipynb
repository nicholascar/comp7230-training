{
 "cells": [
  {
   "cell_type": "markdown",
   "metadata": {},
   "source": [
    "## Guest Lecture COMP7230\n",
    "# Spatio-temporal data manipulation in Semantic Graphs\n",
    "#### by Dr Nicholas Car\n",
    "\n",
    "This Notebook is the resource used to deliver a guest lecture for the [Australian National University](https://www.anu.edu.au)'s course [COMP7230](https://programsandcourses.anu.edu.au/2020/course/COMP7230): *Introduction to Programming for Data Scientists*. It is the second lecture in that series.\n",
    "\n",
    "Click here to run this lecture in your web browser:\n",
    "[![Binder](https://mybinder.org/badge_logo.svg)](https://mybinder.org/v2/gh/nicholascar/comp7230-training/HEAD?filepath=lecture_02.ipynb)\n",
    "\n",
    "## 0. Lecture Outline\n",
    "1. Notes about this training material\n",
    "2. Spatio-Temporal data use\n",
    "3. Multi-dimensional data\n",
    "4. S-T typology\n",
    "5. Semantic modelling\n",
    "6. Using semantic S-T data\n",
    "\n",
    "The goal of this lecture is to convey some sense of the power of semantic Web data for datascience.\n",
    "\n",
    "## 1. Notes about this training material\n",
    "\n",
    "* see [lecture_01.ipynb](lecture_01.ipynb) for notes on how to use this material"
   ]
  },
  {
   "cell_type": "markdown",
   "metadata": {},
   "source": [
    "## 2. Spatio-Temporal data use\n",
    "\n",
    "> _\"everything is somewhere...\"_\n",
    "\n",
    "_everything is some-when_ also?\n",
    "\n",
    "### 2.1 Spatial:\n",
    "* lots of familiar tools: some free\n",
    "    * Google Maps / OpenStreetMaps for simple web display\n",
    "    * PANDAS + maps for data sci\n",
    "    * ArcGIS / QGIS for desktop spatial data manipulation\n",
    "    * Postgres + PostGIS for spatial DB work\n",
    "\n",
    "* lots of data formats\n",
    "    * geometry serialisations (GeoJSON, WKT etc)\n",
    "    * spatial data files (SHAPE files, File GeoDatabases, CSV!)\n",
    "    * databases (Oracle, Postgres, even NSQL, like Mongo + GeoJSON)\n",
    "\n",
    "### 2.2 Temporal:\n",
    "Most software and database systems deal with temporality, at least to some extent.\n",
    "\n",
    "### 2.3 S-T+\n",
    "* spatial/temporal data is almost always linked to non-spatial data for information\n",
    "* typical workflows involve separate spatial and non-spatial operations\n",
    "    * perhaps subsetting a dataset by area (spatial)\n",
    "    * perhaps then by time (temporal)\n",
    "    * then aggregating/transforming resultset into a final form (non-S-T)"
   ]
  },
  {
   "cell_type": "markdown",
   "metadata": {},
   "source": [
    "### 2.4 Example scenario: in QGIS\n",
    "\n",
    "Q: _find the average number of people, per dwelling, per suburb, in August 2021_\n",
    "\n",
    "Data might be presented as _people per dwelling per 'Mesh Block' for 2011 - 2021_\n",
    "\n",
    "Worflow might be:\n",
    "\n",
    "1. Filter out non-August 2021 data (temporal)\n",
    "2. Average people per dwelling per MeshBlock (non-spatial)\n",
    "3. Intersect Mesh Blocks with suburbs (\"LGAs\")\n",
    "\n",
    "These steps are necissarily sequential if we can't represent all the dimensions of our data in one system. Even if we can, we need specialised functions for some dimensions: statistical (_average_), spatial (_within_, intersections) and temporal (also _within_).\n",
    "\n",
    "How would this scenario work with QGIS?\n",
    "\n",
    "![](img/qgis-screenshot.png)\n",
    "**Figure 1**: Screenshot of the QGIS tool showing ACT\n",
    "\n",
    "In QGIS, we have lots of spatial operations, so can do intersections, but non-spatial operations aren't easily catered for. Typically, users export data to PANDAS, Tableau etc for more processing and pre-filter data temporally."
   ]
  },
  {
   "cell_type": "markdown",
   "metadata": {},
   "source": [
    "## 3. Multi-dimensional data\n",
    "\n",
    "### 3.1 Intro\n",
    "\n",
    "* before considering how to improve our operation, let's consider our previous example's dimensions\n",
    "\n",
    "![](img/data-dimensions.png)  \n",
    "**Figure 2**: Dimensions of the data in the _Example Scenario_ above\n",
    "\n",
    "* To perform any operations on these dimensions, S-T or other, we need to know about how those dimensions \"work\": their typology\n",
    "* If we know this, we can characterise functions per dimension\n",
    "* The more dimensions we can cater for in one place, the fewer sequential steps or system people will need to use to get the results they want\n",
    "\n",
    "### 3.2 Example scenario: in a relational DB\n",
    "\n",
    "* Relational Databases easily cater for multi-dimensional data\n",
    "* Python contains code to work with the SQLite DB \"out of the box\"\n",
    "* SQLite is a relational DB in a single file\n",
    "    * likely the \"most implemented\" DB in the world: every Android phone\n",
    "    * don't be mislead by the single file: it can scale to billions of entries...\n",
    "    \n",
    "Data for our scenario in RDB-ready form:"
   ]
  },
  {
   "cell_type": "code",
   "execution_count": null,
   "metadata": {},
   "outputs": [],
   "source": [
    "print(open(\"lecture_02_dwellings.csv\").read())"
   ]
  },
  {
   "cell_type": "code",
   "execution_count": null,
   "metadata": {},
   "outputs": [],
   "source": [
    "# use standard Python libraries\n",
    "import csv\n",
    "import sqlite3\n",
    "\n",
    "# create an SQLite DB\n",
    "conn = sqlite3.connect('test.db')\n",
    "print(\"Opened database successfully\")\n",
    "\n",
    "# create a table within it\n",
    "conn.execute(\"DROP TABLE IF EXISTS dwellings;\")  # good practice to remove preexisting\n",
    "conn.execute(\n",
    "    \"\"\"\n",
    "    CREATE TABLE dwellings\n",
    "    (ID INT PRIMARY KEY    NOT NULL,\n",
    "    NoPeople        INT    NOT NULL,\n",
    "    ContainingMB    INT   NOT NULL,\n",
    "    CensusYear      INT    NOT NULL);\n",
    "    \"\"\"\n",
    ")\n",
    "print(\"Table created successfully\")\n",
    "\n",
    "# check it's empty\n",
    "cur = conn.cursor()\n",
    "cur.execute(\"SELECT COUNT(*) FROM dwellings;\")\n",
    "rows = cur.fetchall()\n",
    "print(f\"Rows in table: {rows[0][0]}\")"
   ]
  },
  {
   "cell_type": "code",
   "execution_count": null,
   "metadata": {},
   "outputs": [],
   "source": [
    "# read CSV data, insert it into table\n",
    "with open(\"lecture_02_dwellings.csv\") as f:\n",
    "    reader = csv.reader(f)\n",
    "    next(reader)  # skip header\n",
    "    for field in reader:\n",
    "        conn.execute(\"INSERT INTO dwellings VALUES (?,?,?,?);\", field)\n",
    "print(\"Read CSV data into table\")\n",
    "\n",
    "# check there are 30 entries in table\n",
    "cur = conn.cursor()\n",
    "cur.execute(\"SELECT COUNT(*) FROM dwellings;\")\n",
    "rows = cur.fetchall()\n",
    "print(f\"Rows in table: {rows[0][0]}\")"
   ]
  },
  {
   "cell_type": "code",
   "execution_count": null,
   "metadata": {},
   "outputs": [],
   "source": [
    "# select only 2021 data, aggregate by containing Mesh Block\n",
    "# check there are 30 entries in table\n",
    "cur = conn.cursor()\n",
    "cur.execute(\n",
    "    \"\"\"\n",
    "    SELECT ContainingMB, AVG(NoPeople) \n",
    "    FROM dwellings \n",
    "    WHERE CensusYear = 2021\n",
    "    GROUP BY ContainingMB\n",
    "    \"\"\"\n",
    ")\n",
    "rows = cur.fetchall()\n",
    "print(\"Average number of people per dwelling per Mesh Block in 2021:\")\n",
    "for row in rows:\n",
    "    print(row)"
   ]
  },
  {
   "cell_type": "code",
   "execution_count": null,
   "metadata": {},
   "outputs": [],
   "source": [
    "# clean up\n",
    "conn.close()\n",
    "import os\n",
    "os.unlink(\"test.db\")"
   ]
  },
  {
   "cell_type": "markdown",
   "metadata": {},
   "source": [
    "### 3.3 Multi-dimensionality in SQL\n",
    "\n",
    "```\n",
    "SELECT ContainingMB, AVG(NoPeople) \n",
    "FROM dwellings \n",
    "WHERE CensusYear = 2021\n",
    "GROUP BY ContainingMB\n",
    "```\n",
    "\n",
    "* `AVG(NoPeople)` - a statistical dimension operation\n",
    "* `CensusYear = 2021` - a temporal dimension operation\n",
    "* `GROUP BY ContainingMB` - using spatial information, MB, but a statistical operation\n"
   ]
  },
  {
   "cell_type": "markdown",
   "metadata": {},
   "source": [
    "## 3. S-T typology\n",
    "\n",
    "Let's look in detail at spatial and temporal dimnesions...\n",
    "\n",
    "### 3.1 Spatial\n",
    "\n",
    "* spatial typology can be called topology\n",
    "* _topology_ has a robust, formal set of models\n",
    "    * [Dimensionally Extended 9-Intersection Model (DE-9IM)](https://en.wikipedia.org/wiki/DE-9IM)\n",
    "    * [Simple Features](https://en.wikipedia.org/wiki/Simple_Features) [IS1, IS2]\n",
    "* many tools implement functions for these models\n",
    "    * PostGIS\n",
    "    * Oracle\n",
    "    * QGIS\n",
    "    * Python (e.g. shapely)\n",
    "    * GeoSPARQL implementations (next)\n",
    "\n",
    "Topological function examples:\n",
    "\n",
    "![](img/TopologicSpatialRelarions2.png)\n",
    "**Figure 2**: Topological spatial relations examples\n",
    "By Krauss - Own work, CC BY-SA 3.0, https://commons.wikimedia.org/w/index.php?curid=21299138\n",
    "\n",
    "Example of [shapely](https://pypi.org/project/Shapely/) implementing _contains_:"
   ]
  },
  {
   "cell_type": "code",
   "execution_count": null,
   "metadata": {
    "pycharm": {
     "name": "#%%\n"
    }
   },
   "outputs": [],
   "source": [
    "from shapely.geometry import Polygon, Point\n",
    "\n",
    "poly = Polygon([(0, 0), (1, 0), (1, 1), (0, 1), (0, 0)])\n",
    "point = Point(0.5, 0.5)  # contained\n",
    "poly.contains(point)"
   ]
  },
  {
   "cell_type": "code",
   "execution_count": null,
   "metadata": {},
   "outputs": [],
   "source": [
    "point2 = Point(1.5, 0.5)  # not contained\n",
    "poly.contains(point2)"
   ]
  },
  {
   "cell_type": "markdown",
   "metadata": {},
   "source": [
    "* How are these functions used?\n",
    "    * for queries against spatial data collections\n",
    "        * search for things with geometries containing a point using the Loc-I _Explorer_: https://explorer.loci.cat/\n",
    "    * pre-calculating relations, e.g. the Feature [Statistical Area 2_404011096](https://linked.data.gov.au/dataset/asgs2016/statisticalarealevel2/404011096) has a number of pre-calculated topological relations [given in machine-readable form](https://linked.data.gov.au/dataset/asgs2016/statisticalarealevel2/404011096?_view=loci&_format=text/turtle)\n",
    "    \n",
    "> _**ASIDE**: many domains need custom topological relations, such as hydrological catchments which have a special 'downstream' relation_ relevant for flood calculations"
   ]
  },
  {
   "cell_type": "markdown",
   "metadata": {},
   "source": [
    "### 3.2 Temporal\n",
    "\n",
    "* temporal data is everywhere\n",
    "    * it's less visible than spatial, because it's simpler - 1D v. 2D/3D- and handled invisibly\n",
    "    * still important to consider deeply\n",
    "* simpler topology: Allen relations [A83]\n",
    "\n",
    "![](img/allen-relations.png)\n",
    "**Figure 3**: Allen relations\n",
    "_from https://www.ics.uci.edu/~alspaugh/cls/shr/allen.html_\n",
    "\n",
    "* implemented in many date/time tools\n",
    "    * e.g. Python's datetime library:"
   ]
  },
  {
   "cell_type": "code",
   "execution_count": null,
   "metadata": {
    "pycharm": {
     "name": "#%%\n"
    }
   },
   "outputs": [],
   "source": [
    "import datetime\n",
    "\n",
    "a = datetime.datetime(2021, 9, 7)\n",
    "b = datetime.datetime(2021, 10, 7)  # the day after a, above\n",
    "\n",
    "# before(a, b)\n",
    "print(a < b)  "
   ]
  },
  {
   "cell_type": "code",
   "execution_count": null,
   "metadata": {},
   "outputs": [],
   "source": [
    "# after(a, b)\n",
    "print(a > b)  "
   ]
  },
  {
   "cell_type": "markdown",
   "metadata": {},
   "source": [
    "## 4. Semantic modelling\n",
    "\n",
    "### 4.1 RDF Recap\n",
    "\n",
    "_some short recapping of how the Resource Description Framework (RDF) works_\n",
    "\n",
    "For discussion:\n",
    "\n",
    "![](img/example-graph-iris.jpg)  \n",
    "**Figure 4**: RDF image, from [the RDF Primer](https://www.w3.org/TR/rdf11-primer/)\n",
    "\n",
    "Note that:\n",
    "* _everything_ is \"strongly\" identified\n",
    "    * including all relationships\n",
    "    * unlike lots of related data\n",
    "* many of the identifiers resolve\n",
    "    * to more info (on the web)\n",
    "\n",
    "### 4.2 Semantic Modelling\n",
    "\n",
    "We can use RDF to store both the _models_ we use and the _data_. This is different to relational and NoSQL DBs whos models are DB schema and separate from the data.\n",
    "\n",
    "An extension on the last lecture:\n",
    "\n",
    "![](img/rdf-model-data.png)  \n",
    "**Figure 5**: RDF representing both model and data information\n",
    "\n",
    "With the model and the data in one place, we can use the them together. Using the model and data above, a pseudo code query to find \"Nick\" could be:\n",
    "\n",
    "> _find all the objects of type `ex:Person` with the `ex:name` property equal to \"Nick\"_\n",
    "\n",
    "In [SPARQL](https://www.w3.org/TR/sparql11-query/) this would be:\n",
    "\n",
    "```\n",
    "PREFIX ex: <http://example.com/>\n",
    "\n",
    "SELECT *\n",
    "WHERE {\n",
    "    ?p a ex:Person ;\n",
    "        ex:name \"Nick\" ;\n",
    "    .\n",
    "}\n",
    "```\n",
    "\n",
    "To demo:"
   ]
  },
  {
   "cell_type": "code",
   "execution_count": null,
   "metadata": {},
   "outputs": [],
   "source": [
    "# show the data file content\n",
    "print(open(\"lecture_02_person.ttl\").read())"
   ]
  },
  {
   "cell_type": "code",
   "execution_count": null,
   "metadata": {},
   "outputs": [],
   "source": [
    "# use the rdflib library\n",
    "from rdflib import Graph\n",
    "\n",
    "# load the RDF file into a graph\n",
    "g = Graph().parse(\"lecture_02_person.ttl\")\n",
    "print(f\"The number of triples in the graph is {len(g)}\")\n",
    "\n",
    "# query the graph\n",
    "for r in g.query(\n",
    "    \"\"\"\n",
    "    PREFIX ex: <http://example.com/>\n",
    "    \n",
    "    SELECT *\n",
    "    WHERE {\n",
    "        ?p a ex:Person ;\n",
    "            ex:name \"Nick\" ;\n",
    "        .\n",
    "    }\n",
    "    \"\"\"\n",
    "):\n",
    "    print(f\"The ID of the node of type ex:Person with ex:name \\\"Nick\\\" is {r[0]}\")\n"
   ]
  },
  {
   "cell_type": "markdown",
   "metadata": {},
   "source": [
    "Extend the above query to _find all the objects of type `ex:Thing`:"
   ]
  },
  {
   "cell_type": "code",
   "execution_count": null,
   "metadata": {},
   "outputs": [],
   "source": [
    "# query the graph\n",
    "for r in g.query(\n",
    "    \"\"\"\n",
    "    PREFIX ex: <http://example.com/>\n",
    "    PREFIX rdf: <http://www.w3.org/1999/02/22-rdf-syntax-ns#>\n",
    "    PREFIX rdfs: <http://www.w3.org/2000/01/rdf-schema#>\n",
    "    \n",
    "    SELECT *\n",
    "    WHERE {\n",
    "        ?p rdf:type/rdfs:subClassOf ex:Thing .\n",
    "    }\n",
    "    \"\"\"\n",
    "):\n",
    "    print(f\"The ID of nodes of any type that is a sub class of ex:Thing: {r[0]}\")"
   ]
  },
  {
   "cell_type": "markdown",
   "metadata": {},
   "source": [
    "`rdf:type/rdfs:subClassOf` in the query above is a 'path' query: one of the graph model superpowers!"
   ]
  },
  {
   "cell_type": "markdown",
   "metadata": {},
   "source": [
    "### 4.3 Reasoning\n",
    "\n",
    "According to it's model's rules, which follow general set theory, any `x` that is of type `y` is also of type of any superclass of `y`. So for our data we can infer this relation:\n",
    "\n",
    "![](img/rdf-reasoning.png)  \n",
    "**Figure 6**: RDF reasoning: using the model within the data\n",
    "\n",
    "We can execute software that \"builds\" data according to model rules to simplify queries. Here I'll just run the rule in isolation:"
   ]
  },
  {
   "cell_type": "code",
   "execution_count": null,
   "metadata": {},
   "outputs": [],
   "source": [
    "g.update(\n",
    "    \"\"\"\n",
    "    PREFIX rdf: <http://www.w3.org/1999/02/22-rdf-syntax-ns#>\n",
    "    PREFIX rdfs: <http://www.w3.org/2000/01/rdf-schema#>\n",
    "    \n",
    "    INSERT {\n",
    "        ?x rdf:type ?z .\n",
    "    }\n",
    "    WHERE {\n",
    "        ?x rdf:type ?y .\n",
    "        ?y rdfs:subClassOf ?z .\n",
    "    }\n",
    "    \"\"\"\n",
    ")\n",
    "\n",
    "# show the updated data, look for orcid:8742-7730's types\n",
    "print(g.serialize())"
   ]
  },
  {
   "cell_type": "markdown",
   "metadata": {},
   "source": [
    "Now we can use the simpler query:"
   ]
  },
  {
   "cell_type": "code",
   "execution_count": null,
   "metadata": {},
   "outputs": [],
   "source": [
    "for r in g.query(\n",
    "    \"\"\"\n",
    "    PREFIX ex: <http://example.com/>\n",
    "    PREFIX rdf: <http://www.w3.org/1999/02/22-rdf-syntax-ns#>\n",
    "    PREFIX rdfs: <http://www.w3.org/2000/01/rdf-schema#>\n",
    "    \n",
    "    SELECT *\n",
    "    WHERE {\n",
    "        ?p rdf:type ex:Thing .\n",
    "    }\n",
    "    \"\"\"\n",
    "):\n",
    "    print(f\"The ID of nodes of any type that is a sub class of ex:Thing: {r[0]}\")"
   ]
  },
  {
   "cell_type": "markdown",
   "metadata": {},
   "source": [
    "## 5. Semantic S-T modelling\n",
    "\n",
    "### 5.1 GeoSPARQL & OWL Time\n",
    "\n",
    "We have well-known _ontologies_ for spatial and temporal domains:\n",
    "\n",
    "* GeoSPARQL: [GSP] - spatial\n",
    "* OWL Time: [TIME] - temporal\n",
    "\n",
    "Using them and representing both mdoels and data:\n",
    "\n",
    "![](img/semantic-st-modelling.png)  \n",
    "**Figure 7**: (left) GeoSPARQL `geo:Feature` and `geo:Geometry` classes and their relations & OWL Time `time:TemporalEntity` (no `Feature` equivalent); (center) A flood, `ex:flood-1` modelled with both spatial and temporal properties; (right) the inference that `ex:flood-1` is a `geo:Feature`, from its use of `geo:hasGeometry`\n",
    "\n",
    "### 5.2 Typology\n",
    "\n",
    "GeoSPARQL contain spatial and temporal relations as per _Simple Features_ and _Allen Relations_ respectively:\n",
    "\n",
    "Ontology | Relation | Property\n",
    ":--- | --- | ---\n",
    "GeoSPARQL | SF within | `geo:sfWithin`\n",
    "| SF contains | `geo:sfContains`\n",
    "| EH covers | `geo:ehCovers`\n",
    "OWL Time | before | `time:before`\n",
    "| after | `time:after`\n",
    "| in | `time:intervalIn`\n",
    "\n",
    "Following on from Figure 7: given that any object with spatial relations is a `geo:Feature`, if `ex:flood-1 geo:ehCovers ex:school-grounds-x` then `ex:flood-1 rdfs:type geo:Feature` .\n",
    "\n",
    "Both ontologies contain other property rules, e.g. `time:before` transitivity & `time:before`/`time:after` inverse:\n",
    "\n",
    "```\n",
    "ex:IceAge time:before ex:Renaissance .\n",
    "\n",
    "ex:20thCentury time:after ex:Renaissance .\n",
    "```\n",
    "(inverse)\n",
    "\n",
    "```\n",
    "ex:IceAge time:before ex:Renaissance .\n",
    "\n",
    "ex:Renaissance time:before ex:20thCentury .\n",
    "```\n",
    "(transitive)\n",
    "```\n",
    "ex:IceAge time:before ex:20thCentury .\n",
    "```"
   ]
  },
  {
   "cell_type": "markdown",
   "metadata": {},
   "source": [
    "### 5.3 Functions\n",
    "\n",
    "GeoSPARQL contains functions to calculate relations, e.g. `geo:contains`, using data, as per the example in 3.1. The function `geof:contains()` is used like this, to find all the things that `ex:feature-x` contains, spatially:\n",
    "\n",
    "```\n",
    "PREFIX geo: <http://www.opengis.net/ont/geosparql#>\n",
    "\n",
    "SELECT ?contained\n",
    "WHERE {\n",
    "    ex:feature-x geo:hasGeometry ?ga ;    \n",
    "    ?contained geo:hasGeometry ?gb ;\n",
    "    \n",
    "    FILTER geo:contains(?ga, ?gb)\n",
    "}\n",
    "```\n",
    "\n",
    "OWL Time doesn't contain equivalent functions... but I've made some [TMF]! Let's see...\n",
    "\n",
    "Example data:"
   ]
  },
  {
   "cell_type": "code",
   "execution_count": null,
   "metadata": {},
   "outputs": [],
   "source": [
    "print(open(\"lecture_02_tf.ttl\").read())"
   ]
  },
  {
   "cell_type": "markdown",
   "metadata": {},
   "source": [
    "The above data is shown in Figure 8.\n",
    "\n",
    "![](img/tf-rdf.png)  \n",
    "**Figure 8**: A set of `time:TemporalEntity` instances with declared and inferrable/calculable relations (in orange)"
   ]
  },
  {
   "cell_type": "code",
   "execution_count": null,
   "metadata": {},
   "outputs": [],
   "source": [
    "from rdflib import Graph\n",
    "from timefuncs import TFUN\n",
    "\n",
    "g = Graph().parse(\"lecture_02_tf.ttl\")\n",
    "print(f\"The number of triples in the graph is {len(g)}\")"
   ]
  },
  {
   "cell_type": "code",
   "execution_count": null,
   "metadata": {},
   "outputs": [],
   "source": [
    "for r in g.query(\n",
    "        \"\"\"\n",
    "        PREFIX tfun: <https://w3id.org/timefuncs/>\n",
    "        \n",
    "        SELECT ?x ?y\n",
    "        WHERE {\n",
    "            ?x a ?c1 .\n",
    "            ?y a ?c2 .\n",
    "        \n",
    "            FILTER tfun:isBefore(?x, ?y)\n",
    "        }\n",
    "        \"\"\"\n",
    "):\n",
    "    print(f\"{r[0]} is before {r[1]}\")"
   ]
  },
  {
   "cell_type": "markdown",
   "metadata": {},
   "source": [
    "Note that this query uses both graph path following logic and numerical (date) calculations."
   ]
  },
  {
   "cell_type": "markdown",
   "metadata": {},
   "source": [
    "## 6.0 Using semantic S-T data\n",
    "\n",
    "A \"semantically ehanced\" version of the dwellings CSV used in the SQLite example above:"
   ]
  },
  {
   "cell_type": "code",
   "execution_count": null,
   "metadata": {},
   "outputs": [],
   "source": [
    "print(open(\"lecture_02_dwellings.ttl\").read())"
   ]
  },
  {
   "cell_type": "markdown",
   "metadata": {},
   "source": [
    "Enhanced in that:\n",
    "\n",
    "* element IDs have been univerallised:\n",
    "    * 50055290000 &rarr; `https://linked.data.gov.au/dataset/asgs2016/50055290000`\n",
    "* simple data types runed into nodes with properties:\n",
    "    * \"2016\" &rarr; `ex:year-2016`\n",
    "* spatial & temporal topology hase been introduced:   \n",
    "    * ```\n",
    "    <https://linked.data.gov.au/dataset/asgs2016/50055290000>\n",
    "        a geo:Feature ;\n",
    "        geo:sfTouches <https://linked.data.gov.au/dataset/asgs2016/50049040000> ;\n",
    "    .\n",
    "    ```\n",
    "\n",
    "    * ```\n",
    "    ex:year-2021 \n",
    "        a time:temporalEntity ;\n",
    "        time:after ex:year-2016 ;\n",
    "        time:inXSDgYear 2021 ;\n",
    "    .\n",
    "    ```"
   ]
  },
  {
   "cell_type": "markdown",
   "metadata": {},
   "source": [
    "## Conclusions\n",
    "\n",
    "What have we learned?"
   ]
  },
  {
   "cell_type": "markdown",
   "metadata": {},
   "source": [
    "## References\n",
    "\n",
    "* **[A83]**: Allen, James F. \"Maintaining knowledge about temporal intervals\". Communications of the ACM 26(11) pp.832-843, Nov. 1983.\n",
    "* **[DEM9]**: Clementini E., Di Felice P., van Oosterom P. (1993) \"A small set of formal topological relationships suitable for end-user interaction\". In: Abel D., Chin Ooi B. (eds) Advances in Spatial Databases. SSD 1993. Lecture Notes in Computer Science, vol 692. Springer, Berlin, Heidelberg. https://doi.org/10.1007/3-540-56869-7_16\n",
    "* **[GSP]**: Open Geospatial Consortium \"OGC GeoSPARQL - A Geographic Query Language for RDF Data\". Implementation standard (draft). https://opengeospatial.github.io/ogc-geosparql/geosparql11/spec.html\n",
    "* **[IS1]**: International Organization for Standardization \"ISO 19125-1:2004 Geographic information -- Simple feature access -- Part 1: Common architecture\". International standard.\n",
    "* **[IS2]**: International Organization for Standardization \"ISO 19125-2:2004 Geographic information -- Simple feature access -- Part 2: SQL option\". International standard.\n",
    "* **[TIM]** Cox, Simon & Little, Chris (eds.) \"Time Ontology in OWL\". W3C Candidate Recommendation 26 March 2020. https://www.w3.org/TR/owl-time/\n",
    "* **[TMF]** Car, N.J. 2021. \"RDFlib OWL TIME Functions\". Software library online. https://github.com/rdflib/timefuncs"
   ]
  }
 ],
 "metadata": {
  "kernelspec": {
   "display_name": "Python 3",
   "language": "python",
   "name": "python3"
  },
  "language_info": {
   "codemirror_mode": {
    "name": "ipython",
    "version": 3
   },
   "file_extension": ".py",
   "mimetype": "text/x-python",
   "name": "python",
   "nbconvert_exporter": "python",
   "pygments_lexer": "ipython3",
   "version": "3.9.1"
  }
 },
 "nbformat": 4,
 "nbformat_minor": 1
}