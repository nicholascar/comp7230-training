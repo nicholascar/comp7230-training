{
 "cells": [
  {
   "cell_type": "markdown",
   "metadata": {
    "collapsed": true,
    "pycharm": {
     "name": "#%% md\n"
    }
   },
   "source": [
    "## Guest Lecture COMP7230\n",
    "# Using Python packages for Linked Data & spatial data\n",
    "#### by Dr Nicholas Car\n",
    "\n",
    "This Notebook is the resource used to deliver a guest lecture for the [Australian National University](https://www.anu.edu.au)'s course [COMP7230](https://programsandcourses.anu.edu.au/2020/course/COMP7230): *Introduction to Programming for Data Scientists*\n",
    "\n",
    "Click here to run this lecture in your web browser:\n",
    "[![Binder](https://mybinder.org/badge_logo.svg)](https://mybinder.org/v2/gh/nicholascar/comp7230-training/HEAD?filepath=lecture.ipynb)\n",
    "\n",
    "## About the lecturer\n",
    "**Nicholas Car**:\n",
    "* PhD in informatics for irrigation\n",
    "* A former CSIRO informatics researcher\n",
    "    * worked on integrating environmental data across government / industry\n",
    "    * developed data standards\n",
    "* Has worked in operation IT in government\n",
    "* Now in a private IT consulting company, [SURROUND Australia Pty Ltd](https://surroundaustralia.com) supplying Data Science solutions\n",
    "\n",
    "Relevant current work:\n",
    "\n",
    "* building data processing systems for government & industry\n",
    "* mainly using Python\n",
    "    * due to its large number of web and data science packages\n",
    "* maintains the [RDFlib](https://rdflib.net) Python toolkit\n",
    "    * for processing [RDF](https://en.wikipedia.org/wiki/Resource_Description_Framework)\n",
    "* co-chairs the [Australian Government Linked Data Working Group](https://www.linked.data.gov.au) with Armin Haller\n",
    "    * plans for multi-agency data integration\n",
    "* still developing data standards\n",
    "    * in particular GeoSPARQL 1.1 (https://opengeospatial.github.io/ogc-geosparql/geosparql11/spec.html) \n",
    "        * for graph representations of spatial information\n",
    "\n",
    "\n",
    "## 0. Lecture Outline\n",
    "1. Notes about this training material\n",
    "2. Accessing RDF data\n",
    "3. Parsing RDF data\n",
    "4. Data 'mash up'\n",
    "5. Data Conversions & Display\n",
    "\n",
    "\n",
    "## 1. Notes about this training material\n",
    "\n",
    "#### This tool\n",
    "* This is a Jupyter Notebook - interactive Python scripting\n",
    "* You will cover Jupyter Notebooks more, later in this course\n",
    "* Access this material online at:\n",
    "    * GitHub: <https://github.com/nicholascar/comp7230-training>\n",
    "\n",
    "[![Binder](https://mybinder.org/badge_logo.svg)](https://mybinder.org/v2/gh/nicholascar/comp7230-training/?filepath=lecture.ipynb)\n",
    "\n",
    "#### Background data concepts - RDF\n",
    "\n",
    "_Nick will talk RDF using these web pages:_\n",
    "\n",
    "* [Semantic Web](https://www.w3.org/standards/semanticweb/) - the concept\n",
    "* [RDF](https://en.wikipedia.org/wiki/Resource_Description_Framework) - the data model\n",
    "    * refer to the RDF image below\n",
    "* [RDFlib](https://rdflib.net) - the (Python) toolkit\n",
    "* [RDFlib training Notebooks are available](https://github.com/surroundaustralia/rdflib-training)\n",
    "\n",
    "The LocI project:\n",
    "* The Location Index project: <http://loci.cat>\n",
    "\n",
    "RDF image, from [the RDF Primer](https://www.w3.org/TR/rdf11-primer/), for discussion:\n",
    "\n",
    "![](img/example-graph-iris.jpg)\n",
    "\n",
    "Note that:\n",
    "* _everything_ is \"strongly\" identified\n",
    "    * including all relationships\n",
    "    * unlike lots of related data\n",
    "* many of the identifiers resolve\n",
    "    * to more info (on the web)\n",
    "\n",
    "## 2. Accessing RDF data\n",
    "\n",
    "* Here we use an online structured dataset, the Geocoded National Address File for Australia\n",
    "    * Dataset Persistent Identifier: <https://linked.data.gov.au/dataset/gnaf>\n",
    "    * The above link redirects to the API at <https://gnafld.net>\n",
    "* GNAF-LD Data is presented according to *Linked Data* principles\n",
    "    * online\n",
    "    * in HTML & machine-readable form, RDF\n",
    "    * RDF is a Knowledge Graph: a graph containing data + model\n",
    "    * each resource is available via a URI\n",
    "        * e.g. <https://linked.data.gov.au/dataset/gnaf/address/GAACT714845933>\n",
    "\n",
    "![GAACT714845933](img/GAACT714845933.png)\n",
    "\n",
    "\n",
    "2.1. Get the Address GAACT714845933 using the *requests* package"
   ]
  },
  {
   "cell_type": "code",
   "execution_count": 2,
   "metadata": {
    "pycharm": {
     "name": "#%%\n"
    }
   },
   "outputs": [
    {
     "name": "stdout",
     "output_type": "stream",
     "text": [
      "<!DOCTYPE html>\n",
      "<html>\n",
      "<head lang=\"en\">\n",
      "    <meta charset=\"UTF-8\">\n",
      "    <title>Address API</title>\n",
      "    <link rel=\"stylesheet\" href=\"/static/css/psma_theme.css\" />\n",
      "</head>\n",
      "<body>\n",
      "    <div id=\"widther\">\n",
      "        <div id=\"header\">\n",
      "            <div style=\"float:left;\">\n",
      "                <a href=\"https://www.psma.com.au/\">PSMA Australia Ltd.</a>\n",
      "            </div>\n",
      "            <div style=\"float:right;\">\n",
      "                <a href=\"/\">Home</a>\n",
      "                <a href=\"/?_view=reg\">Registers</a>\n",
      "                <a href=\"/sparql\">SPARQL endpoint</a>\n",
      "                <a href=\"http://linked.data.gov.au/def/gnaf\">GNAF ontology</a>\n",
      "                <a href=\"http://linked.data.gov.au/def/gnaf/code/\">GNAF codes</a>\n",
      "                <a href=\"/about\">About</a>\n",
      "            </div>\n",
      "            <div style=\"clear:both;\"></div>\n",
      "        </div>\n",
      "        <div id=\"container-content\">\n",
      "            \n",
      "    <h1>Address GAACT714845933</h1>\n",
      "    <script type=\"application/ld+json\">\n",
      "        {\"@type\": \"Place\", \"name\": \"Geocoded Address GAACT714845933\", \"geo\": {\"latitude\": -35.20113263, \"@type\": \"GeoCoordinates\", \"longitude\": 149.03865604}, \"@context\": \"http://schema.org\", \"address\": {\"addressRegion\": \"Australian Capital Territory\", \"postalCode\": \"2615\", \"streetAddress\": \"6 Packham Place\", \"addressCountry\": \"AU\", \"@type\": \"PostalAddress\", \"addressLocality\": \"Charnwood\"}}\n",
      "    </script>\n",
      "    <h2>G-NAF View</h2>\n",
      "    <table class=\"content\">\n",
      "        <tr><th>Property</th><th>Value</th></tr>\n",
      "        <tr><td>Address Line</td><td><code>6 Packham Place, Charnwood, ACT 2615</code></td></tr>\n",
      "        \n",
      "\n",
      "        \n",
      "\n",
      "        \n",
      "\n",
      "        \n",
      "\n",
      "        \n",
      "\n",
      "        \n",
      "\n",
      "        \n",
      "            <tr>\n",
      "                <td><a href=\"http://linked.data.gov.au/def/gnaf#FirstStreetNumber\">First Street Number</a></td>\n",
      "                <td><code>6</code></td>\n",
      "            </tr>\n",
      "        \n",
      "\n",
      "        \n",
      "\n",
      "        \n",
      "        <tr><td><a href=\"http://linked.data.gov.au/def/gnaf#hasStreetLocality\">Street Locality</a></td><td><code><a href=\"/streetLocality/ACT3857\">Packham Place</a></code></td></tr>\n",
      "        \n",
      "        \n",
      "        <tr><td><a href=\"http://linked.data.gov.au/def/gnaf#hasLocality\">Locality</a></td><td><code><a href=\"/locality/ACT570\">Charnwood</a></code></td></tr>\n",
      "        \n",
      "        \n",
      "        <tr><td><a href=\"http://linked.data.gov.au/def/gnaf#hasState\">State/Territory</a></td><td><code>ACT</code></td></tr>\n",
      "        \n",
      "        \n",
      "        <tr><td><a href=\"http://linked.data.gov.au/def/gnaf#hasPostcode\">Postcode</a></td><td><code>2615</code></td></tr>\n",
      "        \n",
      "        \n",
      "        <tr><td><a href=\"http://linked.data.gov.au/def/gnaf#hasLegalParcelId\">Legal Parcel ID</a></td><td><code>BELC/CHAR/15/16/</code></td></tr>\n",
      "        \n",
      "        \n",
      "        <tr><td><a href=\"http://linked.data.gov.au/def/gnaf#hasAddressSite\">Address Site PID</a></td><td><code><a href=\"/addressSite/710446419\">710446419</a></code></td></tr>\n",
      "        \n",
      "        \n",
      "        <tr><td><a href=\"http://linked.data.gov.au/def/gnaf#\">Level Geocoded Code</a></td><td><code>7</code></td></tr>\n",
      "        \n",
      "        \n",
      "        \n",
      "            <tr><td><a href=\"http://linked.data.gov.au/def/gnaf#hasGnafConfidence\">GNAF Confidence</a></td><td><code><a href=\"http://gnafld.net/def/gnaf/GnafConfidence_2\">Confidence level 2</a></code></td></tr>\n",
      "        \n",
      "        \n",
      "        <tr><td><a href=\"http://linked.data.gov.au/def/gnaf#hasCreatedDate\">Date Created</a></td><td><code>2004-04-29</code></td></tr>\n",
      "        \n",
      "        \n",
      "        <tr><td><a href=\"http://linked.data.gov.au/def/gnaf#hasLastModifiedDate\">Date Last Modified</a></td><td><code>2018-02-01</code></td></tr>\n",
      "        \n",
      "        \n",
      "        \n",
      "            <tr>\n",
      "                <td><a href=\"http://www.opengis.net/ont/geosparql#hasGeometry\">Geometry</a></td>\n",
      "                <td><code><a href=\"http://gnafld.net/def/gnaf/code/GeocodeTypes#FrontageCentreSetback\">Frontage Centre Setback</a> &rarr;<br />&lt;http://www.opengis.net/def/crs/EPSG/0/4283&gt; POINT(149.03865604 -35.20113263)</code></td>\n",
      "            </tr>\n",
      "        \n",
      "        \n",
      "        \n",
      "        \n",
      "        \n",
      "        \n",
      "        <tr>\n",
      "            <td><a href=\"http://linked.data.gov.au/def/gnaf#hasMeshBlockMatch\">Mesh Blocks 2011</a></td><td>\n",
      "                \n",
      "                    <code><a href=\"http://gnafld.net/def/gnaf/code/MeshBlockMatchTypes#ParcelLevel\">Parcel Level Match</a> &rarr; <a href=\"http://linked.data.gov.au/dataset/asgs/MB2011/80006300000\">80006300000</a></code><br />\n",
      "                \n",
      "            </td>\n",
      "        </tr>\n",
      "        \n",
      "        \n",
      "        <tr>\n",
      "            <td><a href=\"http://linked.data.gov.au/def/gnaf#hasMeshBlockMatch\">Mesh Blocks 2016</a></td><td>\n",
      "                \n",
      "                    <code><a href=\"http://gnafld.net/def/gnaf/code/MeshBlockMatchTypes#ParcelLevel\">Parcel Level Match</a> &rarr; <a href=\"http://linked.data.gov.au/dataset/asgs/MB2016/80006300000\">80006300000</a></code><br />\n",
      "                \n",
      "            </td>\n",
      "        </tr>\n",
      "        \n",
      "    </table>\n",
      "\n",
      "    <h2>Other views</h2>\n",
      "    <p>Other model views of a Address are listed in the <a href=\"/address/GAACT714845933?_view=alternates\">Alternates View</a>.</p>\n",
      "\n",
      "    <h2>Citation</h2>\n",
      "    <p>If you wish to cite this Address as you would a publication, please use the following format:</p>\n",
      "    <code style=\"display:block; margin: 0 5em 0 5em;\">\n",
      "        PSMA Australia Limited (2017). Address GAACT714845933. Address object from the Geocoded National Address File (G-NAF). http://linked.data.gov.au/dataset/gnaf/address/GAACT714845933\n",
      "    </code>\n",
      "\n",
      "\n",
      "        </div>\n",
      "        <div id=\"footer\"></div>\n",
      "    </div>\n",
      "</body>\n",
      "</html>\n"
     ]
    }
   ],
   "source": [
    "import requests  # NOTE: you must have installed requests first, it's not a standard package\n",
    "r = requests.get(\n",
    "    \"https://linked.data.gov.au/dataset/gnaf/address/GAACT714845933\"\n",
    ")\n",
    "print(r.text)"
   ]
  },
  {
   "cell_type": "markdown",
   "metadata": {},
   "source": [
    "2.2 Get machine-readable data, RDF triples\n",
    "Use HTTP Content Negotiation\n",
    "Same URI, different *format* of data"
   ]
  },
  {
   "cell_type": "code",
   "execution_count": 3,
   "metadata": {
    "pycharm": {
     "name": "#%%\n"
    }
   },
   "outputs": [
    {
     "name": "stdout",
     "output_type": "stream",
     "text": [
      "<http://linked.data.gov.au/dataset/gnaf/address/GAACT714845933> <http://purl.org/dc/terms/identifier> \"GAACT714845933\"^^<http://www.w3.org/2001/XMLSchema#string> .\n",
      "<http://linked.data.gov.au/dataset/gnaf/address/GAACT714845933> <http://www.w3.org/2000/01/rdf-schema#comment> \"6 Packham Place, Charnwood, ACT 2615\"^^<http://www.w3.org/2001/XMLSchema#string> .\n",
      "_:Nfbdb238ffe9d4fa4bd6dd6f8cced7318 <http://www.w3.org/1999/02/22-rdf-syntax-ns#type> <http://www.opengis.net/ont/sf#Point> .\n",
      "_:N3677002343da47bbb35c569fc67f349f <http://www.w3.org/ns/prov#value> \"6\"^^<http://www.w3.org/2001/XMLSchema#integer> .\n",
      "<http://linked.data.gov.au/dataset/gnaf/address/GAACT714845933> <http://linked.data.gov.au/def/gnaf#hasStreetLocality> <http://linked.data.gov.au/dataset/gnaf/streetLocality/ACT3857> .\n",
      "<http://linked.data.gov.au/dataset/gnaf/address/GAACT714845933> <http://purl.org/dc/terms/modified> \"2018-02-01\"^^<http://www.w3.org/2001/XMLSchema#date> .\n",
      "<http://linked.data.gov.au/dataset/gnaf/address/GAACT714845933> <http://www.w3.org/2000/01/rdf-schema#label> \"Address GAACT714845933 of Unknown type\"^^<http://www.w3.org/2001/XMLSchema#string> .\n",
      "_:Nfbdb238ffe9d4fa4bd6dd6f8cced7318 <http://linked.data.gov.au/def/gnaf#gnafType> <http://gnafld.net/def/gnaf/code/GeocodeTypes#FrontageCentreSetback> .\n",
      "<http://linked.data.gov.au/dataset/gnaf/address/GAACT714845933> <http://linked.data.gov.au/def/gnaf#hasDateCreated> \"2004-04-29\"^^<http://www.w3.org/2001/XMLSchema#date> .\n",
      "<http://linked.data.gov.au/dataset/gnaf/address/GAACT714845933> <http://www.opengis.net/ont/geosparql#hasGeometry> _:Nfbdb238ffe9d4fa4bd6dd6f8cced7318 .\n",
      "<http://linked.data.gov.au/dataset/gnaf/address/GAACT714845933> <http://linked.data.gov.au/def/gnaf#hasNumber> _:N3677002343da47bbb35c569fc67f349f .\n",
      "<http://linked.data.gov.au/dataset/gnaf/address/GAACT714845933> <http://purl.org/dc/terms/type> <http://gnafld.net/def/gnaf/code/AddressTypes#Unknown> .\n",
      "<http://linked.data.gov.au/dataset/gnaf/address/GAACT714845933> <http://linked.data.gov.au/def/loci#isMemberOf> <http://linked.data.gov.au/dataset/gnaf/address/> .\n",
      "<http://linked.data.gov.au/dataset/gnaf/address/GAACT714845933> <http://linked.data.gov.au/def/gnaf#hasDateLastModified> \"2018-02-01\"^^<http://www.w3.org/2001/XMLSchema#date> .\n",
      "<http://linked.data.gov.au/dataset/gnaf/address/GAACT714845933> <http://linked.data.gov.au/def/gnaf#hasGnafConfidence> <http://gnafld.net/def/gnaf/GnafConfidence_2> .\n",
      "<http://linked.data.gov.au/dataset/gnaf/address/GAACT714845933> <http://www.w3.org/1999/02/22-rdf-syntax-ns#type> <http://linked.data.gov.au/def/gnaf#Address> .\n",
      "<http://linked.data.gov.au/dataset/gnaf/address/GAACT714845933> <http://purl.org/dc/terms/created> \"2004-04-29\"^^<http://www.w3.org/2001/XMLSchema#date> .\n",
      "<http://gnafld.net/def/gnaf/GnafConfidence_2> <http://www.w3.org/2000/01/rdf-schema#label> \"Confidence level 2\"^^<http://www.w3.org/2001/XMLSchema#string> .\n",
      "_:N3677002343da47bbb35c569fc67f349f <http://linked.data.gov.au/def/gnaf#gnafType> <http://linked.data.gov.au/def/gnaf/code/NumberTypes#FirstStreet> .\n",
      "_:Nfbdb238ffe9d4fa4bd6dd6f8cced7318 <http://www.w3.org/2000/01/rdf-schema#label> \"Frontage Centre Setback\"^^<http://www.w3.org/2001/XMLSchema#string> .\n",
      "<http://linked.data.gov.au/dataset/gnaf/address/GAACT714845933> <http://linked.data.gov.au/def/gnaf#hasAddressSite> <http://linked.data.gov.au/dataset/gnaf/addressSite/710446419> .\n",
      "<http://linked.data.gov.au/dataset/gnaf/address/GAACT714845933> <http://linked.data.gov.au/def/gnaf#hasState> <http://www.geonames.org/2177478> .\n",
      "_:N3677002343da47bbb35c569fc67f349f <http://www.w3.org/1999/02/22-rdf-syntax-ns#type> <http://linked.data.gov.au/def/gnaf#Number> .\n",
      "<http://www.geonames.org/2177478> <http://www.w3.org/2000/01/rdf-schema#label> \"Australian Capital Territory\"^^<http://www.w3.org/2001/XMLSchema#string> .\n",
      "_:Nfbdb238ffe9d4fa4bd6dd6f8cced7318 <http://purl.org/dc/terms/type> <http://gnafld.net/def/gnaf/code/GeocodeTypes#FrontageCentreSetback> .\n",
      "_:Nfbdb238ffe9d4fa4bd6dd6f8cced7318 <http://www.opengis.net/ont/geosparql#asWKT> \"<http://www.opengis.net/def/crs/EPSG/0/4283> POINT(149.03865604 -35.20113263)\"^^<http://www.opengis.net/ont/geosparql#wktLiteral> .\n",
      "<http://linked.data.gov.au/dataset/gnaf/address/GAACT714845933> <http://linked.data.gov.au/def/gnaf#hasLocality> <http://linked.data.gov.au/dataset/gnaf/locality/ACT570> .\n",
      "<http://linked.data.gov.au/dataset/gnaf/address/GAACT714845933> <http://linked.data.gov.au/def/gnaf#hasPostcode> \"2615\"^^<http://www.w3.org/2001/XMLSchema#integer> .\n",
      "\n",
      "\n"
     ]
    }
   ],
   "source": [
    "r = requests.get(\n",
    "    \"https://linked.data.gov.au/dataset/gnaf/address/GAACT714845933\",\n",
    "    headers={\"Accept\": \"application/n-triples\"}\n",
    ")\n",
    "print(r.text)"
   ]
  },
  {
   "cell_type": "markdown",
   "metadata": {},
   "source": [
    "2.3 Get machine-readable data, Turtle\n",
    "Easier to read"
   ]
  },
  {
   "cell_type": "code",
   "execution_count": 4,
   "metadata": {
    "pycharm": {
     "name": "#%%\n"
    }
   },
   "outputs": [
    {
     "name": "stdout",
     "output_type": "stream",
     "text": [
      "@prefix dct: <http://purl.org/dc/terms/> .\n",
      "@prefix geo: <http://www.opengis.net/ont/geosparql#> .\n",
      "@prefix gnaf: <http://linked.data.gov.au/def/gnaf#> .\n",
      "@prefix loci: <http://linked.data.gov.au/def/loci#> .\n",
      "@prefix prov: <http://www.w3.org/ns/prov#> .\n",
      "@prefix rdf: <http://www.w3.org/1999/02/22-rdf-syntax-ns#> .\n",
      "@prefix rdfs: <http://www.w3.org/2000/01/rdf-schema#> .\n",
      "@prefix sf: <http://www.opengis.net/ont/sf#> .\n",
      "@prefix xml: <http://www.w3.org/XML/1998/namespace> .\n",
      "@prefix xsd: <http://www.w3.org/2001/XMLSchema#> .\n",
      "\n",
      "<http://linked.data.gov.au/dataset/gnaf/address/GAACT714845933> a gnaf:Address ;\n",
      "    rdfs:label \"Address GAACT714845933 of Unknown type\"^^xsd:string ;\n",
      "    gnaf:hasAddressSite <http://linked.data.gov.au/dataset/gnaf/addressSite/710446419> ;\n",
      "    gnaf:hasDateCreated \"2004-04-29\"^^xsd:date ;\n",
      "    gnaf:hasDateLastModified \"2018-02-01\"^^xsd:date ;\n",
      "    gnaf:hasGnafConfidence <http://gnafld.net/def/gnaf/GnafConfidence_2> ;\n",
      "    gnaf:hasLocality <http://linked.data.gov.au/dataset/gnaf/locality/ACT570> ;\n",
      "    gnaf:hasNumber [ a gnaf:Number ;\n",
      "            gnaf:gnafType <http://linked.data.gov.au/def/gnaf/code/NumberTypes#FirstStreet> ;\n",
      "            prov:value 6 ] ;\n",
      "    gnaf:hasPostcode 2615 ;\n",
      "    gnaf:hasState <http://www.geonames.org/2177478> ;\n",
      "    gnaf:hasStreetLocality <http://linked.data.gov.au/dataset/gnaf/streetLocality/ACT3857> ;\n",
      "    loci:isMemberOf <http://linked.data.gov.au/dataset/gnaf/address/> ;\n",
      "    dct:created \"2004-04-29\"^^xsd:date ;\n",
      "    dct:identifier \"GAACT714845933\"^^xsd:string ;\n",
      "    dct:modified \"2018-02-01\"^^xsd:date ;\n",
      "    dct:type <http://gnafld.net/def/gnaf/code/AddressTypes#Unknown> ;\n",
      "    geo:hasGeometry [ a sf:Point ;\n",
      "            rdfs:label \"Frontage Centre Setback\"^^xsd:string ;\n",
      "            gnaf:gnafType <http://gnafld.net/def/gnaf/code/GeocodeTypes#FrontageCentreSetback> ;\n",
      "            dct:type <http://gnafld.net/def/gnaf/code/GeocodeTypes#FrontageCentreSetback> ;\n",
      "            geo:asWKT \"<http://www.opengis.net/def/crs/EPSG/0/4283> POINT(149.03865604 -35.20113263)\"^^geo:wktLiteral ] ;\n",
      "    rdfs:comment \"6 Packham Place, Charnwood, ACT 2615\"^^xsd:string .\n",
      "\n",
      "<http://gnafld.net/def/gnaf/GnafConfidence_2> rdfs:label \"Confidence level 2\"^^xsd:string .\n",
      "\n",
      "<http://www.geonames.org/2177478> rdfs:label \"Australian Capital Territory\"^^xsd:string .\n",
      "\n",
      "\n"
     ]
    }
   ],
   "source": [
    "r = requests.get(\n",
    "    \"https://linked.data.gov.au/dataset/gnaf/address/GAACT714845933\",\n",
    "    headers={\"Accept\": \"text/turtle\"}\n",
    ")\n",
    "print(r.text)"
   ]
  },
  {
   "cell_type": "markdown",
   "metadata": {},
   "source": [
    "## 3. Parsing RDF data\n",
    "\n",
    "Import the RDFlib library for manipulating RDF data\n",
    "Add some namespaces to shorten URIs"
   ]
  },
  {
   "cell_type": "code",
   "execution_count": 5,
   "metadata": {
    "pycharm": {
     "name": "#%%\n"
    }
   },
   "outputs": [
    {
     "name": "stdout",
     "output_type": "stream",
     "text": [
      "http://www.opengis.net/ont/geosparql#\n"
     ]
    }
   ],
   "source": [
    "import rdflib\n",
    "from rdflib.namespace import RDF, RDFS\n",
    "GNAF = rdflib.Namespace(\"http://linked.data.gov.au/def/gnaf#\")\n",
    "ADDR = rdflib.Namespace(\"http://linked.data.gov.au/dataset/gnaf/address/\")\n",
    "GEO = rdflib.Namespace(\"http://www.opengis.net/ont/geosparql#\")\n",
    "print(GEO)"
   ]
  },
  {
   "cell_type": "markdown",
   "metadata": {
    "pycharm": {
     "name": "#%% md\n"
    }
   },
   "source": [
    "Create a graph and add the namespaces to it"
   ]
  },
  {
   "cell_type": "code",
   "execution_count": 6,
   "metadata": {
    "pycharm": {
     "name": "#%%\n"
    }
   },
   "outputs": [],
   "source": [
    "g = rdflib.Graph()\n",
    "g.bind(\"gnaf\", GNAF)\n",
    "g.bind(\"addr\", ADDR)\n",
    "g.bind(\"geo\", GEO)"
   ]
  },
  {
   "cell_type": "markdown",
   "metadata": {},
   "source": [
    "Parse in the machine-readable data from the GNAF-LD"
   ]
  },
  {
   "cell_type": "code",
   "execution_count": 7,
   "metadata": {
    "pycharm": {
     "name": "#%%\n"
    }
   },
   "outputs": [
    {
     "data": {
      "text/plain": [
       "<Graph identifier=N6419b63a26ce49d4b8b5c49cb67b5d0d (<class 'rdflib.graph.Graph'>)>"
      ]
     },
     "execution_count": 7,
     "metadata": {},
     "output_type": "execute_result"
    }
   ],
   "source": [
    "r = requests.get(\n",
    "    \"https://linked.data.gov.au/dataset/gnaf/address/GAACT714845933\",\n",
    "    headers={\"Accept\": \"text/turtle\"}\n",
    ")\n",
    "g.parse(data=r.text, format=\"text/turtle\")"
   ]
  },
  {
   "cell_type": "markdown",
   "metadata": {},
   "source": [
    "Print graph length (no. of triples) to check"
   ]
  },
  {
   "cell_type": "code",
   "execution_count": 8,
   "metadata": {
    "pycharm": {
     "name": "#%%\n"
    }
   },
   "outputs": [
    {
     "name": "stdout",
     "output_type": "stream",
     "text": [
      "28\n"
     ]
    }
   ],
   "source": [
    "print(len(g))"
   ]
  },
  {
   "cell_type": "markdown",
   "metadata": {},
   "source": [
    "Print graph content, in Turtle"
   ]
  },
  {
   "cell_type": "code",
   "execution_count": 9,
   "metadata": {
    "pycharm": {
     "name": "#%%\n"
    }
   },
   "outputs": [
    {
     "name": "stdout",
     "output_type": "stream",
     "text": [
      "@prefix addr: <http://linked.data.gov.au/dataset/gnaf/address/> .\n",
      "@prefix dct: <http://purl.org/dc/terms/> .\n",
      "@prefix geo: <http://www.opengis.net/ont/geosparql#> .\n",
      "@prefix gnaf: <http://linked.data.gov.au/def/gnaf#> .\n",
      "@prefix loci: <http://linked.data.gov.au/def/loci#> .\n",
      "@prefix prov: <http://www.w3.org/ns/prov#> .\n",
      "@prefix rdfs: <http://www.w3.org/2000/01/rdf-schema#> .\n",
      "@prefix sf: <http://www.opengis.net/ont/sf#> .\n",
      "@prefix xsd: <http://www.w3.org/2001/XMLSchema#> .\n",
      "\n",
      "addr:GAACT714845933 a gnaf:Address ;\n",
      "    rdfs:label \"Address GAACT714845933 of Unknown type\"^^xsd:string ;\n",
      "    gnaf:hasAddressSite <http://linked.data.gov.au/dataset/gnaf/addressSite/710446419> ;\n",
      "    gnaf:hasDateCreated \"2004-04-29\"^^xsd:date ;\n",
      "    gnaf:hasDateLastModified \"2018-02-01\"^^xsd:date ;\n",
      "    gnaf:hasGnafConfidence <http://gnafld.net/def/gnaf/GnafConfidence_2> ;\n",
      "    gnaf:hasLocality <http://linked.data.gov.au/dataset/gnaf/locality/ACT570> ;\n",
      "    gnaf:hasNumber [ a gnaf:Number ;\n",
      "            gnaf:gnafType <http://linked.data.gov.au/def/gnaf/code/NumberTypes#FirstStreet> ;\n",
      "            prov:value 6 ] ;\n",
      "    gnaf:hasPostcode 2615 ;\n",
      "    gnaf:hasState <http://www.geonames.org/2177478> ;\n",
      "    gnaf:hasStreetLocality <http://linked.data.gov.au/dataset/gnaf/streetLocality/ACT3857> ;\n",
      "    loci:isMemberOf addr: ;\n",
      "    dct:created \"2004-04-29\"^^xsd:date ;\n",
      "    dct:identifier \"GAACT714845933\"^^xsd:string ;\n",
      "    dct:modified \"2018-02-01\"^^xsd:date ;\n",
      "    dct:type <http://gnafld.net/def/gnaf/code/AddressTypes#Unknown> ;\n",
      "    geo:hasGeometry [ a sf:Point ;\n",
      "            rdfs:label \"Frontage Centre Setback\"^^xsd:string ;\n",
      "            gnaf:gnafType <http://gnafld.net/def/gnaf/code/GeocodeTypes#FrontageCentreSetback> ;\n",
      "            dct:type <http://gnafld.net/def/gnaf/code/GeocodeTypes#FrontageCentreSetback> ;\n",
      "            geo:asWKT \"<http://www.opengis.net/def/crs/EPSG/0/4283> POINT(149.03865604 -35.20113263)\"^^geo:wktLiteral ] ;\n",
      "    rdfs:comment \"6 Packham Place, Charnwood, ACT 2615\"^^xsd:string .\n",
      "\n",
      "<http://gnafld.net/def/gnaf/GnafConfidence_2> rdfs:label \"Confidence level 2\"^^xsd:string .\n",
      "\n",
      "<http://www.geonames.org/2177478> rdfs:label \"Australian Capital Territory\"^^xsd:string .\n",
      "\n",
      "\n"
     ]
    }
   ],
   "source": [
    "print(g.serialize(format=\"text/turtle\").decode())"
   ]
  },
  {
   "cell_type": "markdown",
   "metadata": {},
   "source": [
    "### 3.1 Getting multi-address data:\n",
    "3.1.1. Retrieve an index of 10 addresses, in RDF\n",
    "3.1.2. For each address in the index, get each Address' data\n",
    "* use paging URI: <https://linked.data.gov.au/dataset/gnaf/address/?page=1>\n",
    "3.1.3. Get only the street address and map coordinates\n",
    "\n",
    "#### 3.1.1. Retrieve index"
   ]
  },
  {
   "cell_type": "code",
   "execution_count": 10,
   "metadata": {
    "pycharm": {
     "name": "#%%\n"
    }
   },
   "outputs": [
    {
     "name": "stdout",
     "output_type": "stream",
     "text": [
      "70\n"
     ]
    }
   ],
   "source": [
    "# clear the graph\n",
    "g = rdflib.Graph()\n",
    "\n",
    "r = requests.get(\n",
    "    \"https://linked.data.gov.au/dataset/gnaf/address/?page=1\",\n",
    "    headers={\"Accept\": \"text/turtle\"}\n",
    ")\n",
    "g.parse(data=r.text, format=\"text/turtle\")\n",
    "print(len(g))"
   ]
  },
  {
   "cell_type": "markdown",
   "metadata": {
    "pycharm": {
     "name": "#%% md\n"
    }
   },
   "source": [
    "#### 3.1.2. Parse in each address' data"
   ]
  },
  {
   "cell_type": "code",
   "execution_count": 11,
   "metadata": {
    "pycharm": {
     "name": "#%%\n"
    }
   },
   "outputs": [
    {
     "name": "stdout",
     "output_type": "stream",
     "text": [
      "GAACT714845953\n",
      "97\n",
      "GAACT714845955\n",
      "122\n",
      "GAACT714845945\n",
      "147\n",
      "GAACT714845941\n",
      "172\n",
      "GAACT714845935\n",
      "197\n",
      "GAACT714845951\n",
      "222\n",
      "GAACT714845949\n",
      "247\n",
      "GAACT714845954\n",
      "272\n",
      "GAACT714845950\n",
      "297\n",
      "GAACT714845942\n",
      "322\n",
      "GAACT714845943\n",
      "347\n",
      "GAACT714845946\n",
      "372\n",
      "GAACT714845947\n",
      "397\n",
      "GAACT714845938\n",
      "422\n",
      "GAACT714845944\n",
      "447\n",
      "GAACT714845933\n",
      "472\n",
      "GAACT714845936\n",
      "497\n",
      "GAACT714845934\n",
      "522\n",
      "GAACT714845952\n",
      "547\n",
      "GAACT714845939\n",
      "572\n"
     ]
    }
   ],
   "source": [
    "for s, p, o in g.triples((None, RDF.type, GNAF.Address)):\n",
    "    print(s.split(\"/\")[-1])\n",
    "    r = requests.get(\n",
    "        str(s),\n",
    "        headers={\"Accept\": \"text/turtle\"}\n",
    "    )\n",
    "    g.parse(data=r.text, format=\"turtle\")\n",
    "    print(len(g))"
   ]
  },
  {
   "cell_type": "markdown",
   "metadata": {},
   "source": [
    "The graph model used by the GNAF-LD is based on [GeoSPARQL 1.1](https://opengeospatial.github.io/ogc-geosparql/geosparql11/spec.html) and looks like this:\n",
    "\n",
    "![](img/geosparql-model.png)\n",
    "\n",
    "#### 3.1.3. Extract (& print) street address text & coordinates\n",
    "(CSV)"
   ]
  },
  {
   "cell_type": "code",
   "execution_count": 12,
   "metadata": {
    "pycharm": {
     "name": "#%%\n"
    }
   },
   "outputs": [
    {
     "name": "stdout",
     "output_type": "stream",
     "text": [
      "GNAF ID\tAddress\tCoordinates\n",
      "GAACT714845953\t5 Jamieson Crescent, Kambah, ACT 2902\tPOINT(149.06864966 -35.37733591)\n",
      "GAACT714845955\t3 Baylis Place, Charnwood, ACT 2615\tPOINT(149.03046282 -35.20202762)\n",
      "GAACT714845945\t9 Baylis Place, Charnwood, ACT 2615\tPOINT(149.03047333 -35.20156767)\n",
      "GAACT714845941\t7 Mcdowall Place, Kambah, ACT 2902\tPOINT(149.06860919 -35.37833726)\n",
      "GAACT714845935\t26 Jauncey Court, Charnwood, ACT 2615\tPOINT(149.03640841 -35.19777173)\n",
      "GAACT714845951\t15 Mcdowall Place, Kambah, ACT 2902\tPOINT(149.06946494 -35.37908886)\n",
      "GAACT714845949\t13 Mcdowall Place, Kambah, ACT 2902\tPOINT(149.06908395 -35.37882495)\n",
      "GAACT714845954\t5 Baylis Place, Charnwood, ACT 2615\tPOINT(149.03048051 -35.20185603)\n",
      "GAACT714845950\t7 Baylis Place, Charnwood, ACT 2615\tPOINT(149.03049843 -35.20169346)\n",
      "GAACT714845942\t5 Bunker Place, Charnwood, ACT 2615\tPOINT(149.04029706 -35.19999611)\n",
      "GAACT714845943\t22 Jauncey Court, Charnwood, ACT 2615\tPOINT(149.03688520 -35.19795303)\n",
      "GAACT714845946\t11 Mcdowall Place, Kambah, ACT 2902\tPOINT(149.06895786 -35.37862878)\n",
      "GAACT714845947\t20 Jauncey Court, Charnwood, ACT 2615\tPOINT(149.03705032 -35.19796828)\n",
      "GAACT714845938\t5 Mcdowall Place, Kambah, ACT 2902\tPOINT(149.06851657 -35.37815855)\n",
      "GAACT714845944\t9 Mcdowall Place, Kambah, ACT 2902\tPOINT(149.06872290 -35.37847955)\n",
      "GAACT714845933\t6 Packham Place, Charnwood, ACT 2615\tPOINT(149.03865604 -35.20113263)\n",
      "GAACT714845936\t17 Geeves Court, Charnwood, ACT 2615\tPOINT(149.03687042 -35.20395740)\n",
      "GAACT714845934\t3 Bunker Place, Charnwood, ACT 2615\tPOINT(149.04011870 -35.19989093)\n",
      "GAACT714845952\t18 Jauncey Court, Charnwood, ACT 2615\tPOINT(149.03721725 -35.19805563)\n",
      "GAACT714845939\t24 Jauncey Court, Charnwood, ACT 2615\tPOINT(149.03661902 -35.19784933)\n",
      "\n"
     ]
    }
   ],
   "source": [
    "addresses_tsv = \"GNAF ID\\tAddress\\tCoordinates\\n\"\n",
    "for s, p, o in g.triples((None, RDF.type, GNAF.Address)):\n",
    "    for s2, p2, o2 in g.triples((s, RDFS.comment, None)):\n",
    "        txt = str(o2)\n",
    "    for s2, p2, o2 in g.triples((s, GEO.hasGeometry, None)):\n",
    "        for s3, p3, o3 in g.triples((o2, GEO.asWKT, None)):\n",
    "            coords = str(o3).replace(\"<http://www.opengis.net/def/crs/EPSG/0/4283> \", \"\")\n",
    "\n",
    "    addresses_tsv += \"{}\\t{}\\t{}\\n\".format(str(s).split(\"/\")[-1], txt, coords)\n",
    "\n",
    "print(addresses_tsv)"
   ]
  },
  {
   "cell_type": "markdown",
   "metadata": {},
   "source": [
    "#### 3.1.4. Convert CSV data to PANDAS DataFrame\n",
    "(CSV)"
   ]
  },
  {
   "cell_type": "code",
   "execution_count": 13,
   "metadata": {
    "pycharm": {
     "name": "#%%\n"
    }
   },
   "outputs": [
    {
     "name": "stdout",
     "output_type": "stream",
     "text": [
      "           GNAF ID                                Address  \\\n",
      "0   GAACT714845953  5 Jamieson Crescent, Kambah, ACT 2902   \n",
      "1   GAACT714845955    3 Baylis Place, Charnwood, ACT 2615   \n",
      "2   GAACT714845945    9 Baylis Place, Charnwood, ACT 2615   \n",
      "3   GAACT714845941     7 Mcdowall Place, Kambah, ACT 2902   \n",
      "4   GAACT714845935  26 Jauncey Court, Charnwood, ACT 2615   \n",
      "5   GAACT714845951    15 Mcdowall Place, Kambah, ACT 2902   \n",
      "6   GAACT714845949    13 Mcdowall Place, Kambah, ACT 2902   \n",
      "7   GAACT714845954    5 Baylis Place, Charnwood, ACT 2615   \n",
      "8   GAACT714845950    7 Baylis Place, Charnwood, ACT 2615   \n",
      "9   GAACT714845942    5 Bunker Place, Charnwood, ACT 2615   \n",
      "10  GAACT714845943  22 Jauncey Court, Charnwood, ACT 2615   \n",
      "11  GAACT714845946    11 Mcdowall Place, Kambah, ACT 2902   \n",
      "12  GAACT714845947  20 Jauncey Court, Charnwood, ACT 2615   \n",
      "13  GAACT714845938     5 Mcdowall Place, Kambah, ACT 2902   \n",
      "14  GAACT714845944     9 Mcdowall Place, Kambah, ACT 2902   \n",
      "15  GAACT714845933   6 Packham Place, Charnwood, ACT 2615   \n",
      "16  GAACT714845936   17 Geeves Court, Charnwood, ACT 2615   \n",
      "17  GAACT714845934    3 Bunker Place, Charnwood, ACT 2615   \n",
      "18  GAACT714845952  18 Jauncey Court, Charnwood, ACT 2615   \n",
      "19  GAACT714845939  24 Jauncey Court, Charnwood, ACT 2615   \n",
      "\n",
      "                         Coordinates  \n",
      "0   POINT(149.06864966 -35.37733591)  \n",
      "1   POINT(149.03046282 -35.20202762)  \n",
      "2   POINT(149.03047333 -35.20156767)  \n",
      "3   POINT(149.06860919 -35.37833726)  \n",
      "4   POINT(149.03640841 -35.19777173)  \n",
      "5   POINT(149.06946494 -35.37908886)  \n",
      "6   POINT(149.06908395 -35.37882495)  \n",
      "7   POINT(149.03048051 -35.20185603)  \n",
      "8   POINT(149.03049843 -35.20169346)  \n",
      "9   POINT(149.04029706 -35.19999611)  \n",
      "10  POINT(149.03688520 -35.19795303)  \n",
      "11  POINT(149.06895786 -35.37862878)  \n",
      "12  POINT(149.03705032 -35.19796828)  \n",
      "13  POINT(149.06851657 -35.37815855)  \n",
      "14  POINT(149.06872290 -35.37847955)  \n",
      "15  POINT(149.03865604 -35.20113263)  \n",
      "16  POINT(149.03687042 -35.20395740)  \n",
      "17  POINT(149.04011870 -35.19989093)  \n",
      "18  POINT(149.03721725 -35.19805563)  \n",
      "19  POINT(149.03661902 -35.19784933)  \n"
     ]
    }
   ],
   "source": [
    "import pandas\n",
    "from io import StringIO\n",
    "s = StringIO(addresses_tsv)\n",
    "df1 = pandas.read_csv(s, sep=\"\\t\")\n",
    "print(df1)\n"
   ]
  },
  {
   "cell_type": "markdown",
   "metadata": {},
   "source": [
    "#### 3.1.5. SPARQL querying RDF data\n",
    "A graph query, similar to a database SQL query, can traverse the graph and retrieve the same details as the multiple\n",
    "loops and Python code above in 3.1.3."
   ]
  },
  {
   "cell_type": "code",
   "execution_count": 14,
   "metadata": {
    "pycharm": {
     "name": "#%%\n"
    }
   },
   "outputs": [
    {
     "name": "stdout",
     "output_type": "stream",
     "text": [
      "GAACT714845933, 6 Packham Place, Charnwood, ACT 2615, POINT(149.03865604 -35.20113263)\n",
      "GAACT714845934, 3 Bunker Place, Charnwood, ACT 2615, POINT(149.04011870 -35.19989093)\n",
      "GAACT714845935, 26 Jauncey Court, Charnwood, ACT 2615, POINT(149.03640841 -35.19777173)\n",
      "GAACT714845936, 17 Geeves Court, Charnwood, ACT 2615, POINT(149.03687042 -35.20395740)\n",
      "GAACT714845938, 5 Mcdowall Place, Kambah, ACT 2902, POINT(149.06851657 -35.37815855)\n",
      "GAACT714845939, 24 Jauncey Court, Charnwood, ACT 2615, POINT(149.03661902 -35.19784933)\n",
      "GAACT714845941, 7 Mcdowall Place, Kambah, ACT 2902, POINT(149.06860919 -35.37833726)\n",
      "GAACT714845942, 5 Bunker Place, Charnwood, ACT 2615, POINT(149.04029706 -35.19999611)\n",
      "GAACT714845943, 22 Jauncey Court, Charnwood, ACT 2615, POINT(149.03688520 -35.19795303)\n",
      "GAACT714845944, 9 Mcdowall Place, Kambah, ACT 2902, POINT(149.06872290 -35.37847955)\n",
      "GAACT714845945, 9 Baylis Place, Charnwood, ACT 2615, POINT(149.03047333 -35.20156767)\n",
      "GAACT714845946, 11 Mcdowall Place, Kambah, ACT 2902, POINT(149.06895786 -35.37862878)\n",
      "GAACT714845947, 20 Jauncey Court, Charnwood, ACT 2615, POINT(149.03705032 -35.19796828)\n",
      "GAACT714845949, 13 Mcdowall Place, Kambah, ACT 2902, POINT(149.06908395 -35.37882495)\n",
      "GAACT714845950, 7 Baylis Place, Charnwood, ACT 2615, POINT(149.03049843 -35.20169346)\n",
      "GAACT714845951, 15 Mcdowall Place, Kambah, ACT 2902, POINT(149.06946494 -35.37908886)\n",
      "GAACT714845952, 18 Jauncey Court, Charnwood, ACT 2615, POINT(149.03721725 -35.19805563)\n",
      "GAACT714845953, 5 Jamieson Crescent, Kambah, ACT 2902, POINT(149.06864966 -35.37733591)\n",
      "GAACT714845954, 5 Baylis Place, Charnwood, ACT 2615, POINT(149.03048051 -35.20185603)\n",
      "GAACT714845955, 3 Baylis Place, Charnwood, ACT 2615, POINT(149.03046282 -35.20202762)\n"
     ]
    }
   ],
   "source": [
    "q = \"\"\"\n",
    "SELECT ?id ?addr ?coords\n",
    "WHERE {\n",
    "    ?uri a gnaf:Address ;\n",
    "         rdfs:comment ?addr .\n",
    "\n",
    "    ?uri geo:hasGeometry/geo:asWKT ?coords_dirty .\n",
    "\n",
    "    BIND (STRAFTER(STR(?uri), \"address/\") AS ?id)\n",
    "    BIND (STRAFTER(STR(?coords_dirty), \"4283> \") AS ?coords)\n",
    "}\n",
    "ORDER BY ?id\n",
    "\"\"\"\n",
    "for r in g.query(q):\n",
    "    print(\"{}, {}, {}\".format(r[\"id\"], r[\"addr\"], r[\"coords\"]))"
   ]
  },
  {
   "cell_type": "markdown",
   "metadata": {},
   "source": [
    "## 4. Data 'mash up'\n",
    "Add some fake data to the GNAF data - people count per address.\n",
    "\n",
    "The GeoSPARQL model extension used is:\n",
    "\n",
    "![](img/geosparql-model-extension.png)\n",
    "\n",
    "Note that for real Semantic Web work, the `xxx:` properties and classes would be \"properly defined\", removing any ambiguity of use."
   ]
  },
  {
   "cell_type": "code",
   "execution_count": 15,
   "metadata": {
    "pycharm": {
     "name": "#%%\n"
    }
   },
   "outputs": [
    {
     "name": "stdout",
     "output_type": "stream",
     "text": [
      "           GNAF ID   Persons\n",
      "0   GAACT714845944         3\n",
      "1   GAACT714845934         5\n",
      "2   GAACT714845943        10\n",
      "3   GAACT714845949         1\n",
      "4   GAACT714845955         2\n",
      "5   GAACT714845935         1\n",
      "6   GAACT714845947         4\n",
      "7   GAACT714845950         3\n",
      "8   GAACT714845933         4\n",
      "9   GAACT714845953         2\n",
      "10  GAACT714845945         3\n",
      "11  GAACT714845946         3\n",
      "12  GAACT714845939         4\n",
      "13  GAACT714845941         2\n",
      "14  GAACT714845942         1\n",
      "15  GAACT714845954         0\n",
      "16  GAACT714845952         5\n",
      "17  GAACT714845938         3\n",
      "18  GAACT714845936         4\n",
      "19  GAACT714845951         3\n"
     ]
    }
   ],
   "source": [
    "import pandas\n",
    "df2 = pandas.read_csv('fake_data.csv')\n",
    "print(df2)"
   ]
  },
  {
   "cell_type": "markdown",
   "metadata": {},
   "source": [
    "Merge DataFrames"
   ]
  },
  {
   "cell_type": "code",
   "execution_count": 16,
   "metadata": {
    "pycharm": {
     "name": "#%%\n"
    }
   },
   "outputs": [
    {
     "name": "stdout",
     "output_type": "stream",
     "text": [
      "          GNAF ID                                Address  \\\n",
      "0  GAACT714845953  5 Jamieson Crescent, Kambah, ACT 2902   \n",
      "1  GAACT714845955    3 Baylis Place, Charnwood, ACT 2615   \n",
      "2  GAACT714845945    9 Baylis Place, Charnwood, ACT 2615   \n",
      "3  GAACT714845941     7 Mcdowall Place, Kambah, ACT 2902   \n",
      "4  GAACT714845935  26 Jauncey Court, Charnwood, ACT 2615   \n",
      "\n",
      "                        Coordinates   Persons  \n",
      "0  POINT(149.06864966 -35.37733591)         2  \n",
      "1  POINT(149.03046282 -35.20202762)         2  \n",
      "2  POINT(149.03047333 -35.20156767)         3  \n",
      "3  POINT(149.06860919 -35.37833726)         2  \n",
      "4  POINT(149.03640841 -35.19777173)         1  \n"
     ]
    }
   ],
   "source": [
    "df3 = pandas.merge(df1, df2)\n",
    "print(df3.head())"
   ]
  },
  {
   "cell_type": "markdown",
   "metadata": {
    "pycharm": {
     "name": "#%% md\n"
    }
   },
   "source": [
    "## 5. Spatial Data Conversions & Display\n",
    "\n",
    "Often you will want to display or export data.\n",
    "\n",
    "#### 5.1 Display directly in Jupyter\n",
    "Using standard Python plotting (matplotlib).\n",
    "\n",
    "First, extract addresses, longitudes & latitudes into a dataframe using a SPARQL query to build a CSV string."
   ]
  },
  {
   "cell_type": "code",
   "execution_count": 17,
   "metadata": {
    "pycharm": {
     "name": "#%%\n"
    }
   },
   "outputs": [
    {
     "name": "stdout",
     "output_type": "stream",
     "text": [
      "Address,Longitude,Latitude\n",
      "\"6 Packham Place, Charnwood, ACT 2615\",149.03865604,-35.20113263\n",
      "\"3 Bunker Place, Charnwood, ACT 2615\",149.0401187,-35.19989093\n",
      "\"26 Jauncey Court, Charnwood, ACT 2615\",149.03640841,-35.19777173\n",
      "\"17 Geeves Court, Charnwood, ACT 2615\",149.03687042,-35.2039574\n",
      "\"5 Mcdowall Place, Kambah, ACT 2902\",149.06851657,-35.37815855\n",
      "\"24 Jauncey Court, Charnwood, ACT 2615\",149.03661902,-35.19784933\n",
      "\"7 Mcdowall Place, Kambah, ACT 2902\",149.06860919,-35.37833726\n",
      "\"5 Bunker Place, Charnwood, ACT 2615\",149.04029706,-35.19999611\n",
      "\"22 Jauncey Court, Charnwood, ACT 2615\",149.0368852,-35.19795303\n",
      "\"9 Mcdowall Place, Kambah, ACT 2902\",149.0687229,-35.37847955\n",
      "\"9 Baylis Place, Charnwood, ACT 2615\",149.03047333,-35.20156767\n",
      "\"11 Mcdowall Place, Kambah, ACT 2902\",149.06895786,-35.37862878\n",
      "\"20 Jauncey Court, Charnwood, ACT 2615\",149.03705032,-35.19796828\n",
      "\"13 Mcdowall Place, Kambah, ACT 2902\",149.06908395,-35.37882495\n",
      "\"7 Baylis Place, Charnwood, ACT 2615\",149.03049843,-35.20169346\n",
      "\"15 Mcdowall Place, Kambah, ACT 2902\",149.06946494,-35.37908886\n",
      "\"18 Jauncey Court, Charnwood, ACT 2615\",149.03721725,-35.19805563\n",
      "\"5 Jamieson Crescent, Kambah, ACT 2902\",149.06864966,-35.37733591\n",
      "\"5 Baylis Place, Charnwood, ACT 2615\",149.03048051,-35.20185603\n",
      "\"3 Baylis Place, Charnwood, ACT 2615\",149.03046282,-35.20202762\n",
      "\n"
     ]
    }
   ],
   "source": [
    "import re\n",
    "addresses_csv = \"Address,Longitude,Latitude\\n\"\n",
    "\n",
    "q = \"\"\"\n",
    "    SELECT ?addr ?coords\n",
    "    WHERE {\n",
    "        ?uri a gnaf:Address ;\n",
    "             rdfs:comment ?addr .\n",
    "\n",
    "        ?uri geo:hasGeometry/geo:asWKT ?coords .\n",
    "\n",
    "        BIND (STRAFTER(STR(?uri), \"address/\") AS ?id)\n",
    "        BIND (STRAFTER(STR(?coords_dirty), \"4283> \") AS ?coords)\n",
    "    }\n",
    "    ORDER BY ?id\n",
    "    \"\"\"\n",
    "for r in g.query(q):\n",
    "    match = re.search(\"POINT\\((\\d+\\.\\d+)\\s(\\-\\d+\\.\\d+)\\)\", r[\"coords\"])\n",
    "    long = float(match.group(1))\n",
    "    lat = float(match.group(2))\n",
    "    addresses_csv += f'\\\"{r[\"addr\"]}\\\",{long},{lat}\\n'\n",
    "\n",
    "print(addresses_csv)"
   ]
  },
  {
   "cell_type": "markdown",
   "metadata": {},
   "source": [
    "Read the CSV into a DataFrame."
   ]
  },
  {
   "cell_type": "code",
   "execution_count": 18,
   "metadata": {},
   "outputs": [
    {
     "name": "stdout",
     "output_type": "stream",
     "text": [
      "0     149.038656\n",
      "1     149.040119\n",
      "2     149.036408\n",
      "3     149.036870\n",
      "4     149.068517\n",
      "5     149.036619\n",
      "6     149.068609\n",
      "7     149.040297\n",
      "8     149.036885\n",
      "9     149.068723\n",
      "10    149.030473\n",
      "11    149.068958\n",
      "12    149.037050\n",
      "13    149.069084\n",
      "14    149.030498\n",
      "15    149.069465\n",
      "16    149.037217\n",
      "17    149.068650\n",
      "18    149.030481\n",
      "19    149.030463\n",
      "Name: Longitude, dtype: float64\n"
     ]
    }
   ],
   "source": [
    "import pandas as pd\n",
    "from io import StringIO\n",
    "addresses_df = pd.read_csv(StringIO(addresses_csv))\n",
    "\n",
    "print(addresses_df[\"Longitude\"])"
   ]
  },
  {
   "cell_type": "markdown",
   "metadata": {},
   "source": [
    "Display the first 5 rows of the DataFrame directly using matplotlib."
   ]
  },
  {
   "cell_type": "code",
   "execution_count": 19,
   "metadata": {},
   "outputs": [
    {
     "data": {
      "image/png": "[encoded data removed]",
      "text/plain": [
       "<Figure size 720x720 with 1 Axes>"
      ]
     },
     "metadata": {
      "needs_background": "light"
     },
     "output_type": "display_data"
    }
   ],
   "source": [
    "from matplotlib import pyplot as plt\n",
    "addresses_df[:5].plot(kind=\"scatter\", x=\"Longitude\", y=\"Latitude\", s=50, figsize=(10,10))\n",
    "\n",
    "for i, label in enumerate(addresses_df[:5]):\n",
    "    plt.annotate(addresses_df[\"Address\"][i], (addresses_df[\"Longitude\"][i], addresses_df[\"Latitude\"][i]))\n",
    "    \n",
    "plt.show()"
   ]
  },
  {
   "cell_type": "markdown",
   "metadata": {
    "pycharm": {
     "name": "#%% md\n"
    }
   },
   "source": [
    "#### 5.2 Convert to common format - GeoJSON\n",
    "\n",
    "Import Python conversion tools (shapely)."
   ]
  },
  {
   "cell_type": "code",
   "execution_count": 20,
   "metadata": {
    "pycharm": {
     "name": "#%%\n"
    }
   },
   "outputs": [],
   "source": [
    "import shapely.wkt\n",
    "from shapely.geometry import MultiPoint\n",
    "import json"
   ]
  },
  {
   "cell_type": "markdown",
   "metadata": {},
   "source": [
    "Loop through the graph using ordinary Python loops, not a query."
   ]
  },
  {
   "cell_type": "code",
   "execution_count": 21,
   "metadata": {
    "pycharm": {
     "name": "#%%\n"
    }
   },
   "outputs": [
    {
     "name": "stdout",
     "output_type": "stream",
     "text": [
      "{\n",
      "    \"type\": \"MultiPoint\",\n",
      "    \"coordinates\": [\n",
      "        [\n",
      "            149.06864966,\n",
      "            -35.37733591\n",
      "        ],\n",
      "        [\n",
      "            149.03046282,\n",
      "            -35.20202762\n",
      "        ],\n",
      "        [\n",
      "            149.03047333,\n",
      "            -35.20156767\n",
      "        ],\n",
      "        [\n",
      "            149.06860919,\n",
      "            -35.37833726\n",
      "        ],\n",
      "        [\n",
      "            149.03640841,\n",
      "            -35.19777173\n",
      "        ],\n",
      "        [\n",
      "            149.06946494,\n",
      "            -35.37908886\n",
      "        ],\n",
      "        [\n",
      "            149.06908395,\n",
      "            -35.37882495\n",
      "        ],\n",
      "        [\n",
      "            149.03048051,\n",
      "            -35.20185603\n",
      "        ],\n",
      "        [\n",
      "            149.03049843,\n",
      "            -35.20169346\n",
      "        ],\n",
      "        [\n",
      "            149.04029706,\n",
      "            -35.19999611\n",
      "        ],\n",
      "        [\n",
      "            149.0368852,\n",
      "            -35.19795303\n",
      "        ],\n",
      "        [\n",
      "            149.06895786,\n",
      "            -35.37862878\n",
      "        ],\n",
      "        [\n",
      "            149.03705032,\n",
      "            -35.19796828\n",
      "        ],\n",
      "        [\n",
      "            149.06851657,\n",
      "            -35.37815855\n",
      "        ],\n",
      "        [\n",
      "            149.0687229,\n",
      "            -35.37847955\n",
      "        ],\n",
      "        [\n",
      "            149.03865604,\n",
      "            -35.20113263\n",
      "        ],\n",
      "        [\n",
      "            149.03687042,\n",
      "            -35.2039574\n",
      "        ],\n",
      "        [\n",
      "            149.0401187,\n",
      "            -35.19989093\n",
      "        ],\n",
      "        [\n",
      "            149.03721725,\n",
      "            -35.19805563\n",
      "        ],\n",
      "        [\n",
      "            149.03661902,\n",
      "            -35.19784933\n",
      "        ]\n",
      "    ]\n",
      "}\n"
     ]
    }
   ],
   "source": [
    "points_list = []\n",
    "\n",
    "for s, p, o in g.triples((None, RDF.type, GNAF.Address)):\n",
    "    for s2, p2, o2 in g.triples((s, GEO.hasGeometry, None)):\n",
    "        for s3, p3, o3 in g.triples((o2, GEO.asWKT, None)):\n",
    "            points_list.append(\n",
    "                shapely.wkt.loads(str(o3).replace(\"<http://www.opengis.net/def/crs/EPSG/0/4283> \", \"\"))\n",
    "            )\n",
    "\n",
    "mp = MultiPoint(points=points_list)\n",
    "\n",
    "geojson = shapely.geometry.mapping(mp)\n",
    "print(json.dumps(geojson, indent=4))"
   ]
  },
  {
   "cell_type": "markdown",
   "metadata": {},
   "source": [
    "Another, better, GeoJSON export - including Feature information.\n",
    "\n",
    "First, build a Python dictionary matching the GeoJSON specification, then export it to JSON."
   ]
  },
  {
   "cell_type": "code",
   "execution_count": 22,
   "metadata": {
    "pycharm": {
     "name": "#%%\n"
    }
   },
   "outputs": [
    {
     "name": "stdout",
     "output_type": "stream",
     "text": [
      "{\n",
      "    \"type\": \"FeatureCollection\",\n",
      "    \"name\": \"test-points-short-named\",\n",
      "    \"crs\": {\n",
      "        \"type\": \"name\",\n",
      "        \"properties\": {\n",
      "            \"name\": \"urn:ogc:def:crs:OGC:1.3:CRS84\"\n",
      "        }\n",
      "    },\n",
      "    \"features\": [\n",
      "        {\n",
      "            \"type\": \"Feature\",\n",
      "            \"properties\": {\n",
      "                \"name\": \"6 Packham Place, Charnwood, ACT 2615\"\n",
      "            },\n",
      "            \"geometry\": {\n",
      "                \"type\": \"Point\",\n",
      "                \"coordinates\": [\n",
      "                    149.03865604,\n",
      "                    -35.20113263\n",
      "                ]\n",
      "            }\n",
      "        },\n",
      "        {\n",
      "            \"type\": \"Feature\",\n",
      "            \"properties\": {\n",
      "                \"name\": \"3 Bunker Place, Charnwood, ACT 2615\"\n",
      "            },\n",
      "            \"geometry\": {\n",
      "                \"type\": \"Point\",\n",
      "                \"coordinates\": [\n",
      "                    149.0401187,\n",
      "                    -35.19989093\n",
      "                ]\n",
      "            }\n",
      "        },\n",
      "        {\n",
      "            \"type\": \"Feature\",\n",
      "            \"properties\": {\n",
      "                \"name\": \"26 Jauncey Court, Charnwood, ACT 2615\"\n",
      "            },\n",
      "            \"geometry\": {\n",
      "                \"type\": \"Point\",\n",
      "                \"coordinates\": [\n",
      "                    149.03640841,\n",
      "                    -35.19777173\n",
      "                ]\n",
      "            }\n",
      "        },\n",
      "        {\n",
      "            \"type\": \"Feature\",\n",
      "            \"properties\": {\n",
      "                \"name\": \"17 Geeves Court, Charnwood, ACT 2615\"\n",
      "            },\n",
      "            \"geometry\": {\n",
      "                \"type\": \"Point\",\n",
      "                \"coordinates\": [\n",
      "                    149.03687042,\n",
      "                    -35.2039574\n",
      "                ]\n",
      "            }\n",
      "        },\n",
      "        {\n",
      "            \"type\": \"Feature\",\n",
      "            \"properties\": {\n",
      "                \"name\": \"5 Mcdowall Place, Kambah, ACT 2902\"\n",
      "            },\n",
      "            \"geometry\": {\n",
      "                \"type\": \"Point\",\n",
      "                \"coordinates\": [\n",
      "                    149.06851657,\n",
      "                    -35.37815855\n",
      "                ]\n",
      "            }\n",
      "        },\n",
      "        {\n",
      "            \"type\": \"Feature\",\n",
      "            \"properties\": {\n",
      "                \"name\": \"24 Jauncey Court, Charnwood, ACT 2615\"\n",
      "            },\n",
      "            \"geometry\": {\n",
      "                \"type\": \"Point\",\n",
      "                \"coordinates\": [\n",
      "                    149.03661902,\n",
      "                    -35.19784933\n",
      "                ]\n",
      "            }\n",
      "        },\n",
      "        {\n",
      "            \"type\": \"Feature\",\n",
      "            \"properties\": {\n",
      "                \"name\": \"7 Mcdowall Place, Kambah, ACT 2902\"\n",
      "            },\n",
      "            \"geometry\": {\n",
      "                \"type\": \"Point\",\n",
      "                \"coordinates\": [\n",
      "                    149.06860919,\n",
      "                    -35.37833726\n",
      "                ]\n",
      "            }\n",
      "        },\n",
      "        {\n",
      "            \"type\": \"Feature\",\n",
      "            \"properties\": {\n",
      "                \"name\": \"5 Bunker Place, Charnwood, ACT 2615\"\n",
      "            },\n",
      "            \"geometry\": {\n",
      "                \"type\": \"Point\",\n",
      "                \"coordinates\": [\n",
      "                    149.04029706,\n",
      "                    -35.19999611\n",
      "                ]\n",
      "            }\n",
      "        },\n",
      "        {\n",
      "            \"type\": \"Feature\",\n",
      "            \"properties\": {\n",
      "                \"name\": \"22 Jauncey Court, Charnwood, ACT 2615\"\n",
      "            },\n",
      "            \"geometry\": {\n",
      "                \"type\": \"Point\",\n",
      "                \"coordinates\": [\n",
      "                    149.0368852,\n",
      "                    -35.19795303\n",
      "                ]\n",
      "            }\n",
      "        },\n",
      "        {\n",
      "            \"type\": \"Feature\",\n",
      "            \"properties\": {\n",
      "                \"name\": \"9 Mcdowall Place, Kambah, ACT 2902\"\n",
      "            },\n",
      "            \"geometry\": {\n",
      "                \"type\": \"Point\",\n",
      "                \"coordinates\": [\n",
      "                    149.0687229,\n",
      "                    -35.37847955\n",
      "                ]\n",
      "            }\n",
      "        },\n",
      "        {\n",
      "            \"type\": \"Feature\",\n",
      "            \"properties\": {\n",
      "                \"name\": \"9 Baylis Place, Charnwood, ACT 2615\"\n",
      "            },\n",
      "            \"geometry\": {\n",
      "                \"type\": \"Point\",\n",
      "                \"coordinates\": [\n",
      "                    149.03047333,\n",
      "                    -35.20156767\n",
      "                ]\n",
      "            }\n",
      "        },\n",
      "        {\n",
      "            \"type\": \"Feature\",\n",
      "            \"properties\": {\n",
      "                \"name\": \"11 Mcdowall Place, Kambah, ACT 2902\"\n",
      "            },\n",
      "            \"geometry\": {\n",
      "                \"type\": \"Point\",\n",
      "                \"coordinates\": [\n",
      "                    149.06895786,\n",
      "                    -35.37862878\n",
      "                ]\n",
      "            }\n",
      "        },\n",
      "        {\n",
      "            \"type\": \"Feature\",\n",
      "            \"properties\": {\n",
      "                \"name\": \"20 Jauncey Court, Charnwood, ACT 2615\"\n",
      "            },\n",
      "            \"geometry\": {\n",
      "                \"type\": \"Point\",\n",
      "                \"coordinates\": [\n",
      "                    149.03705032,\n",
      "                    -35.19796828\n",
      "                ]\n",
      "            }\n",
      "        },\n",
      "        {\n",
      "            \"type\": \"Feature\",\n",
      "            \"properties\": {\n",
      "                \"name\": \"13 Mcdowall Place, Kambah, ACT 2902\"\n",
      "            },\n",
      "            \"geometry\": {\n",
      "                \"type\": \"Point\",\n",
      "                \"coordinates\": [\n",
      "                    149.06908395,\n",
      "                    -35.37882495\n",
      "                ]\n",
      "            }\n",
      "        },\n",
      "        {\n",
      "            \"type\": \"Feature\",\n",
      "            \"properties\": {\n",
      "                \"name\": \"7 Baylis Place, Charnwood, ACT 2615\"\n",
      "            },\n",
      "            \"geometry\": {\n",
      "                \"type\": \"Point\",\n",
      "                \"coordinates\": [\n",
      "                    149.03049843,\n",
      "                    -35.20169346\n",
      "                ]\n",
      "            }\n",
      "        },\n",
      "        {\n",
      "            \"type\": \"Feature\",\n",
      "            \"properties\": {\n",
      "                \"name\": \"15 Mcdowall Place, Kambah, ACT 2902\"\n",
      "            },\n",
      "            \"geometry\": {\n",
      "                \"type\": \"Point\",\n",
      "                \"coordinates\": [\n",
      "                    149.06946494,\n",
      "                    -35.37908886\n",
      "                ]\n",
      "            }\n",
      "        },\n",
      "        {\n",
      "            \"type\": \"Feature\",\n",
      "            \"properties\": {\n",
      "                \"name\": \"18 Jauncey Court, Charnwood, ACT 2615\"\n",
      "            },\n",
      "            \"geometry\": {\n",
      "                \"type\": \"Point\",\n",
      "                \"coordinates\": [\n",
      "                    149.03721725,\n",
      "                    -35.19805563\n",
      "                ]\n",
      "            }\n",
      "        },\n",
      "        {\n",
      "            \"type\": \"Feature\",\n",
      "            \"properties\": {\n",
      "                \"name\": \"5 Jamieson Crescent, Kambah, ACT 2902\"\n",
      "            },\n",
      "            \"geometry\": {\n",
      "                \"type\": \"Point\",\n",
      "                \"coordinates\": [\n",
      "                    149.06864966,\n",
      "                    -35.37733591\n",
      "                ]\n",
      "            }\n",
      "        },\n",
      "        {\n",
      "            \"type\": \"Feature\",\n",
      "            \"properties\": {\n",
      "                \"name\": \"5 Baylis Place, Charnwood, ACT 2615\"\n",
      "            },\n",
      "            \"geometry\": {\n",
      "                \"type\": \"Point\",\n",
      "                \"coordinates\": [\n",
      "                    149.03048051,\n",
      "                    -35.20185603\n",
      "                ]\n",
      "            }\n",
      "        },\n",
      "        {\n",
      "            \"type\": \"Feature\",\n",
      "            \"properties\": {\n",
      "                \"name\": \"3 Baylis Place, Charnwood, ACT 2615\"\n",
      "            },\n",
      "            \"geometry\": {\n",
      "                \"type\": \"Point\",\n",
      "                \"coordinates\": [\n",
      "                    149.03046282,\n",
      "                    -35.20202762\n",
      "                ]\n",
      "            }\n",
      "        }\n",
      "    ]\n",
      "}\n"
     ]
    }
   ],
   "source": [
    "geo_json_features = []\n",
    "\n",
    "# same query as above\n",
    "for r in g.query(q):\n",
    "    match = re.search(\"POINT\\((\\d+\\.\\d+)\\s(\\-\\d+\\.\\d+)\\)\", r[\"coords\"])\n",
    "    long = float(match.group(1))\n",
    "    lat = float(match.group(2))\n",
    "    geo_json_features.append({\n",
    "        \"type\": \"Feature\", \n",
    "        \"properties\": { \"name\": r[\"addr\"] },\n",
    "        \"geometry\": { \n",
    "            \"type\": \"Point\", \n",
    "            \"coordinates\": [ long, lat ] \n",
    "        } \n",
    "    })\n",
    "    \n",
    "geo_json_data = {\n",
    "    \"type\": \"FeatureCollection\",\n",
    "    \"name\": \"test-points-short-named\",\n",
    "    \"crs\": { \"type\": \"name\", \"properties\": { \"name\": \"urn:ogc:def:crs:OGC:1.3:CRS84\" } },\n",
    "    \"features\": geo_json_features\n",
    "}\n",
    "\n",
    "import json\n",
    "geo_json = json.dumps(geo_json_data, indent=4)\n",
    "print(geo_json)"
   ]
  },
  {
   "cell_type": "markdown",
   "metadata": {
    "pycharm": {
     "name": "#%% md\n"
    }
   },
   "source": [
    "Export the data and view it in a GeoJSON map viewer, such as http://geojsonviewer.nsspot.net/ or QGIS (desktop_.\n",
    "\n",
    "## Concluding remarks\n",
    "\n",
    "* Semantic Web, realised through Linked Data, builds a global machine-readable data system\n",
    "* the RDF data structure is used\n",
    "    * to link things\n",
    "    * to define things, and the links\n",
    "* specialised parts of the Sem Web can represent a/any domain\n",
    "    * e.g. spatial\n",
    "    * e.g. Addresses\n",
    "* powerful graph pattern matching queries, SPARQL, can be used to subset (federated) Sem Web data\n",
    "* RDF manipulation libraries exist\n",
    "    * can convert to other, common forms, e.g. CSV GeoJSON\n",
    "* _do as much data science work as you can with well-defined models!_\n",
    "\n",
    "## License\n",
    "All the content in this repository is licensed under the [CC BY 4.0 license](https://creativecommons.org/licenses/by/4.0/). Basically, you can:\n",
    "\n",
    "* copy and redistribute the material in any medium or format\n",
    "* remix, transform, and build upon the material for any purpose, even commercially\n",
    "\n",
    "You just need to:\n",
    "\n",
    "* give appropriate credit, provide a link to the license, and indicate if changes were made\n",
    "* not apply legal terms or technological measures that legally restrict others from doing anything the license permits\n",
    "\n",
    "## Contact Information\n",
    "**Dr Nicholas J. Car**<br />\n",
    "*Data Systems Architect*<br />\n",
    "[SURROUND Australia Pty Ltd](https://surroundaustralia.com)<br />\n",
    "<nicholas.car@surroundaustralia.com><br />\n",
    "GitHub: [nicholascar](https://github.com/nicholascar)<br />\n",
    "ORCID: <https://orcid.org/0000-0002-8742-7730><br />"
   ]
  },
  {
   "cell_type": "code",
   "execution_count": null,
   "metadata": {},
   "outputs": [],
   "source": []
  }
 ],
 "metadata": {
  "kernelspec": {
   "display_name": "Python 3",
   "language": "python",
   "name": "python3"
  },
  "language_info": {
   "codemirror_mode": {
    "name": "ipython",
    "version": 3
   },
   "file_extension": ".py",
   "mimetype": "text/x-python",
   "name": "python",
   "nbconvert_exporter": "python",
   "pygments_lexer": "ipython3",
   "version": "3.9.1"
  }
 },
 "nbformat": 4,
 "nbformat_minor": 1
}